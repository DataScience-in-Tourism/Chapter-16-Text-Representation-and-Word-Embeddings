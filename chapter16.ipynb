{
 "cells": [
  {
   "cell_type": "markdown",
   "metadata": {
    "id": "f8eaf2f0"
   },
   "source": [
    "# Chapter 16: Text Representations and Word Embeddings\n",
    "### Roman Egger\n",
    "##### <italic>Salzburg University of Applied Sciences - Department: Innovation and Management in Tourism</italic>\n",
    "\n",
    "---\n",
    "\n",
    "In this Jupyter Notebook, we will use a number of techniques to create word vectors. We start with One Hot Encoding and Bag of Words, will apply TF-IDF and move on to more complex and powerful techniques like Word2Vec, ELMO and BERT"
   ]
  },
  {
   "cell_type": "code",
   "execution_count": 1,
   "metadata": {
    "colab": {
     "base_uri": "https://localhost:8080/",
     "height": 177,
     "resources": {
      "http://localhost:8080/nbextensions/google.colab/files.js": {
       "data": "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",
       "headers": [
        [
         "content-type",
         "application/javascript"
        ]
       ],
       "ok": true,
       "status": 200,
       "status_text": ""
      }
     }
    },
    "executionInfo": {
     "elapsed": 34305,
     "status": "ok",
     "timestamp": 1623680616984,
     "user": {
      "displayName": "o kemper",
      "photoUrl": "",
      "userId": "07135009294597268629"
     },
     "user_tz": -120
    },
    "id": "dar79Yds1-xt",
    "outputId": "0e6d8a6e-ac93-44ea-ed20-e7ea31052556"
   },
   "outputs": [
    {
     "data": {
      "text/html": [
       "\n",
       "     <input type=\"file\" id=\"files-9bc1ff48-9229-4651-bb2d-0a7ebf1f4f4c\" name=\"files[]\" multiple disabled\n",
       "        style=\"border:none\" />\n",
       "     <output id=\"result-9bc1ff48-9229-4651-bb2d-0a7ebf1f4f4c\">\n",
       "      Upload widget is only available when the cell has been executed in the\n",
       "      current browser session. Please rerun this cell to enable.\n",
       "      </output>\n",
       "      <script src=\"/nbextensions/google.colab/files.js\"></script> "
      ],
      "text/plain": [
       "<IPython.core.display.HTML object>"
      ]
     },
     "metadata": {
      "tags": []
     },
     "output_type": "display_data"
    },
    {
     "name": "stdout",
     "output_type": "stream",
     "text": [
      "Saving vectors_tourist_cities.txt to vectors_tourist_cities (1).txt\n",
      "Saving vectors_countries.txt to vectors_countries (1).txt\n",
      "Saving airbnb_total.txt to airbnb_total (1).txt\n",
      "Saving ch16.py to ch16 (2).py\n"
     ]
    }
   ],
   "source": [
    "# if using google colab uncomment these lines to upload the data files \n",
    "# airbnb_total.ext, vectors_tourist_cities.txt, vectors_countries.txt, and the helper file ch16.py\n",
    "\n",
    "# from google.colab import files\n",
    "# uploaded = files.upload()"
   ]
  },
  {
   "cell_type": "code",
   "execution_count": 2,
   "metadata": {
    "colab": {
     "base_uri": "https://localhost:8080/"
    },
    "executionInfo": {
     "elapsed": 47771,
     "status": "ok",
     "timestamp": 1623680671587,
     "user": {
      "displayName": "o kemper",
      "photoUrl": "",
      "userId": "07135009294597268629"
     },
     "user_tz": -120
    },
    "id": "NBEAsPfw2kYX",
    "outputId": "1d8cf006-c5b0-41db-bf38-fa020078dced"
   },
   "outputs": [
    {
     "name": "stdout",
     "output_type": "stream",
     "text": [
      "Requirement already satisfied: numpy in /usr/local/lib/python3.7/dist-packages (1.19.5)\n",
      "Requirement already satisfied: pandas in /usr/local/lib/python3.7/dist-packages (1.1.5)\n",
      "Requirement already satisfied: pytz>=2017.2 in /usr/local/lib/python3.7/dist-packages (from pandas) (2018.9)\n",
      "Requirement already satisfied: numpy>=1.15.4 in /usr/local/lib/python3.7/dist-packages (from pandas) (1.19.5)\n",
      "Requirement already satisfied: python-dateutil>=2.7.3 in /usr/local/lib/python3.7/dist-packages (from pandas) (2.8.1)\n",
      "Requirement already satisfied: six>=1.5 in /usr/local/lib/python3.7/dist-packages (from python-dateutil>=2.7.3->pandas) (1.15.0)\n",
      "Requirement already up-to-date: nltk in /usr/local/lib/python3.7/dist-packages (3.6.2)\n",
      "Requirement already satisfied, skipping upgrade: tqdm in /usr/local/lib/python3.7/dist-packages (from nltk) (4.41.1)\n",
      "Requirement already satisfied, skipping upgrade: joblib in /usr/local/lib/python3.7/dist-packages (from nltk) (1.0.1)\n",
      "Requirement already satisfied, skipping upgrade: click in /usr/local/lib/python3.7/dist-packages (from nltk) (7.1.2)\n",
      "Requirement already satisfied, skipping upgrade: regex in /usr/local/lib/python3.7/dist-packages (from nltk) (2019.12.20)\n",
      "Requirement already up-to-date: scikit-learn in /usr/local/lib/python3.7/dist-packages (0.24.2)\n",
      "Requirement already satisfied, skipping upgrade: threadpoolctl>=2.0.0 in /usr/local/lib/python3.7/dist-packages (from scikit-learn) (2.1.0)\n",
      "Requirement already satisfied, skipping upgrade: numpy>=1.13.3 in /usr/local/lib/python3.7/dist-packages (from scikit-learn) (1.19.5)\n",
      "Requirement already satisfied, skipping upgrade: joblib>=0.11 in /usr/local/lib/python3.7/dist-packages (from scikit-learn) (1.0.1)\n",
      "Requirement already satisfied, skipping upgrade: scipy>=0.19.1 in /usr/local/lib/python3.7/dist-packages (from scikit-learn) (1.4.1)\n",
      "Requirement already up-to-date: gensim in /usr/local/lib/python3.7/dist-packages (4.0.1)\n",
      "Requirement already satisfied, skipping upgrade: scipy>=0.18.1 in /usr/local/lib/python3.7/dist-packages (from gensim) (1.4.1)\n",
      "Requirement already satisfied, skipping upgrade: numpy>=1.11.3 in /usr/local/lib/python3.7/dist-packages (from gensim) (1.19.5)\n",
      "Requirement already satisfied, skipping upgrade: smart-open>=1.8.1 in /usr/local/lib/python3.7/dist-packages (from gensim) (5.0.0)\n",
      "Requirement already up-to-date: tensorflow-hub in /usr/local/lib/python3.7/dist-packages (0.12.0)\n",
      "Requirement already satisfied, skipping upgrade: numpy>=1.12.0 in /usr/local/lib/python3.7/dist-packages (from tensorflow-hub) (1.19.5)\n",
      "Requirement already satisfied, skipping upgrade: protobuf>=3.8.0 in /usr/local/lib/python3.7/dist-packages (from tensorflow-hub) (3.12.4)\n",
      "Requirement already satisfied, skipping upgrade: six>=1.9 in /usr/local/lib/python3.7/dist-packages (from protobuf>=3.8.0->tensorflow-hub) (1.15.0)\n",
      "Requirement already satisfied, skipping upgrade: setuptools in /usr/local/lib/python3.7/dist-packages (from protobuf>=3.8.0->tensorflow-hub) (57.0.0)\n",
      "Requirement already satisfied: pytorch-transformers in /usr/local/lib/python3.7/dist-packages (1.2.0)\n",
      "Requirement already satisfied: sentencepiece in /usr/local/lib/python3.7/dist-packages (from pytorch-transformers) (0.1.95)\n",
      "Requirement already satisfied: numpy in /usr/local/lib/python3.7/dist-packages (from pytorch-transformers) (1.19.5)\n",
      "Requirement already satisfied: requests in /usr/local/lib/python3.7/dist-packages (from pytorch-transformers) (2.23.0)\n",
      "Requirement already satisfied: tqdm in /usr/local/lib/python3.7/dist-packages (from pytorch-transformers) (4.41.1)\n",
      "Requirement already satisfied: regex in /usr/local/lib/python3.7/dist-packages (from pytorch-transformers) (2019.12.20)\n",
      "Requirement already satisfied: boto3 in /usr/local/lib/python3.7/dist-packages (from pytorch-transformers) (1.17.93)\n",
      "Requirement already satisfied: sacremoses in /usr/local/lib/python3.7/dist-packages (from pytorch-transformers) (0.0.45)\n",
      "Requirement already satisfied: torch>=1.0.0 in /usr/local/lib/python3.7/dist-packages (from pytorch-transformers) (1.8.1+cu101)\n",
      "Requirement already satisfied: certifi>=2017.4.17 in /usr/local/lib/python3.7/dist-packages (from requests->pytorch-transformers) (2020.12.5)\n",
      "Requirement already satisfied: chardet<4,>=3.0.2 in /usr/local/lib/python3.7/dist-packages (from requests->pytorch-transformers) (3.0.4)\n",
      "Requirement already satisfied: urllib3!=1.25.0,!=1.25.1,<1.26,>=1.21.1 in /usr/local/lib/python3.7/dist-packages (from requests->pytorch-transformers) (1.24.3)\n",
      "Requirement already satisfied: idna<3,>=2.5 in /usr/local/lib/python3.7/dist-packages (from requests->pytorch-transformers) (2.10)\n",
      "Requirement already satisfied: jmespath<1.0.0,>=0.7.1 in /usr/local/lib/python3.7/dist-packages (from boto3->pytorch-transformers) (0.10.0)\n",
      "Requirement already satisfied: botocore<1.21.0,>=1.20.93 in /usr/local/lib/python3.7/dist-packages (from boto3->pytorch-transformers) (1.20.93)\n",
      "Requirement already satisfied: s3transfer<0.5.0,>=0.4.0 in /usr/local/lib/python3.7/dist-packages (from boto3->pytorch-transformers) (0.4.2)\n",
      "Requirement already satisfied: six in /usr/local/lib/python3.7/dist-packages (from sacremoses->pytorch-transformers) (1.15.0)\n",
      "Requirement already satisfied: click in /usr/local/lib/python3.7/dist-packages (from sacremoses->pytorch-transformers) (7.1.2)\n",
      "Requirement already satisfied: joblib in /usr/local/lib/python3.7/dist-packages (from sacremoses->pytorch-transformers) (1.0.1)\n",
      "Requirement already satisfied: typing-extensions in /usr/local/lib/python3.7/dist-packages (from torch>=1.0.0->pytorch-transformers) (3.7.4.3)\n",
      "Requirement already satisfied: python-dateutil<3.0.0,>=2.1 in /usr/local/lib/python3.7/dist-packages (from botocore<1.21.0,>=1.20.93->boto3->pytorch-transformers) (2.8.1)\n",
      "Requirement already satisfied: torch in /usr/local/lib/python3.7/dist-packages (1.8.1+cu101)\n",
      "Requirement already satisfied: numpy in /usr/local/lib/python3.7/dist-packages (from torch) (1.19.5)\n",
      "Requirement already satisfied: typing-extensions in /usr/local/lib/python3.7/dist-packages (from torch) (3.7.4.3)\n",
      "Requirement already satisfied: spacy in /usr/local/lib/python3.7/dist-packages (2.2.4)\n",
      "Requirement already satisfied: blis<0.5.0,>=0.4.0 in /usr/local/lib/python3.7/dist-packages (from spacy) (0.4.1)\n",
      "Requirement already satisfied: preshed<3.1.0,>=3.0.2 in /usr/local/lib/python3.7/dist-packages (from spacy) (3.0.5)\n",
      "Requirement already satisfied: tqdm<5.0.0,>=4.38.0 in /usr/local/lib/python3.7/dist-packages (from spacy) (4.41.1)\n",
      "Requirement already satisfied: thinc==7.4.0 in /usr/local/lib/python3.7/dist-packages (from spacy) (7.4.0)\n",
      "Requirement already satisfied: setuptools in /usr/local/lib/python3.7/dist-packages (from spacy) (57.0.0)\n",
      "Requirement already satisfied: requests<3.0.0,>=2.13.0 in /usr/local/lib/python3.7/dist-packages (from spacy) (2.23.0)\n",
      "Requirement already satisfied: plac<1.2.0,>=0.9.6 in /usr/local/lib/python3.7/dist-packages (from spacy) (1.1.3)\n",
      "Requirement already satisfied: catalogue<1.1.0,>=0.0.7 in /usr/local/lib/python3.7/dist-packages (from spacy) (1.0.0)\n",
      "Requirement already satisfied: cymem<2.1.0,>=2.0.2 in /usr/local/lib/python3.7/dist-packages (from spacy) (2.0.5)\n",
      "Requirement already satisfied: srsly<1.1.0,>=1.0.2 in /usr/local/lib/python3.7/dist-packages (from spacy) (1.0.5)\n",
      "Requirement already satisfied: murmurhash<1.1.0,>=0.28.0 in /usr/local/lib/python3.7/dist-packages (from spacy) (1.0.5)\n",
      "Requirement already satisfied: wasabi<1.1.0,>=0.4.0 in /usr/local/lib/python3.7/dist-packages (from spacy) (0.8.2)\n",
      "Requirement already satisfied: numpy>=1.15.0 in /usr/local/lib/python3.7/dist-packages (from spacy) (1.19.5)\n",
      "Requirement already satisfied: chardet<4,>=3.0.2 in /usr/local/lib/python3.7/dist-packages (from requests<3.0.0,>=2.13.0->spacy) (3.0.4)\n",
      "Requirement already satisfied: urllib3!=1.25.0,!=1.25.1,<1.26,>=1.21.1 in /usr/local/lib/python3.7/dist-packages (from requests<3.0.0,>=2.13.0->spacy) (1.24.3)\n",
      "Requirement already satisfied: certifi>=2017.4.17 in /usr/local/lib/python3.7/dist-packages (from requests<3.0.0,>=2.13.0->spacy) (2020.12.5)\n",
      "Requirement already satisfied: idna<3,>=2.5 in /usr/local/lib/python3.7/dist-packages (from requests<3.0.0,>=2.13.0->spacy) (2.10)\n",
      "Requirement already satisfied: importlib-metadata>=0.20; python_version < \"3.8\" in /usr/local/lib/python3.7/dist-packages (from catalogue<1.1.0,>=0.0.7->spacy) (4.0.1)\n",
      "Requirement already satisfied: zipp>=0.5 in /usr/local/lib/python3.7/dist-packages (from importlib-metadata>=0.20; python_version < \"3.8\"->catalogue<1.1.0,>=0.0.7->spacy) (3.4.1)\n",
      "Requirement already satisfied: typing-extensions>=3.6.4; python_version < \"3.8\" in /usr/local/lib/python3.7/dist-packages (from importlib-metadata>=0.20; python_version < \"3.8\"->catalogue<1.1.0,>=0.0.7->spacy) (3.7.4.3)\n",
      "Requirement already satisfied: nlp in /usr/local/lib/python3.7/dist-packages (0.4.0)\n",
      "Requirement already satisfied: pandas in /usr/local/lib/python3.7/dist-packages (from nlp) (1.1.5)\n",
      "Requirement already satisfied: numpy in /usr/local/lib/python3.7/dist-packages (from nlp) (1.19.5)\n",
      "Requirement already satisfied: requests>=2.19.0 in /usr/local/lib/python3.7/dist-packages (from nlp) (2.23.0)\n",
      "Requirement already satisfied: filelock in /usr/local/lib/python3.7/dist-packages (from nlp) (3.0.12)\n",
      "Requirement already satisfied: dill in /usr/local/lib/python3.7/dist-packages (from nlp) (0.3.3)\n",
      "Requirement already satisfied: tqdm>=4.27 in /usr/local/lib/python3.7/dist-packages (from nlp) (4.41.1)\n",
      "Requirement already satisfied: xxhash in /usr/local/lib/python3.7/dist-packages (from nlp) (2.0.2)\n",
      "Requirement already satisfied: pyarrow>=0.16.0 in /usr/local/lib/python3.7/dist-packages (from nlp) (3.0.0)\n",
      "Requirement already satisfied: python-dateutil>=2.7.3 in /usr/local/lib/python3.7/dist-packages (from pandas->nlp) (2.8.1)\n",
      "Requirement already satisfied: pytz>=2017.2 in /usr/local/lib/python3.7/dist-packages (from pandas->nlp) (2018.9)\n",
      "Requirement already satisfied: certifi>=2017.4.17 in /usr/local/lib/python3.7/dist-packages (from requests>=2.19.0->nlp) (2020.12.5)\n",
      "Requirement already satisfied: urllib3!=1.25.0,!=1.25.1,<1.26,>=1.21.1 in /usr/local/lib/python3.7/dist-packages (from requests>=2.19.0->nlp) (1.24.3)\n",
      "Requirement already satisfied: idna<3,>=2.5 in /usr/local/lib/python3.7/dist-packages (from requests>=2.19.0->nlp) (2.10)\n",
      "Requirement already satisfied: chardet<4,>=3.0.2 in /usr/local/lib/python3.7/dist-packages (from requests>=2.19.0->nlp) (3.0.4)\n",
      "Requirement already satisfied: six>=1.5 in /usr/local/lib/python3.7/dist-packages (from python-dateutil>=2.7.3->pandas->nlp) (1.15.0)\n",
      "Requirement already satisfied: python-Levenshtein in /usr/local/lib/python3.7/dist-packages (0.12.2)\n",
      "Requirement already satisfied: setuptools in /usr/local/lib/python3.7/dist-packages (from python-Levenshtein) (57.0.0)\n",
      "Requirement already satisfied: matplotlib in /usr/local/lib/python3.7/dist-packages (3.2.2)\n",
      "Requirement already satisfied: python-dateutil>=2.1 in /usr/local/lib/python3.7/dist-packages (from matplotlib) (2.8.1)\n",
      "Requirement already satisfied: kiwisolver>=1.0.1 in /usr/local/lib/python3.7/dist-packages (from matplotlib) (1.3.1)\n",
      "Requirement already satisfied: pyparsing!=2.0.4,!=2.1.2,!=2.1.6,>=2.0.1 in /usr/local/lib/python3.7/dist-packages (from matplotlib) (2.4.7)\n",
      "Requirement already satisfied: cycler>=0.10 in /usr/local/lib/python3.7/dist-packages (from matplotlib) (0.10.0)\n",
      "Requirement already satisfied: numpy>=1.11 in /usr/local/lib/python3.7/dist-packages (from matplotlib) (1.19.5)\n",
      "Requirement already satisfied: six>=1.5 in /usr/local/lib/python3.7/dist-packages (from python-dateutil>=2.1->matplotlib) (1.15.0)\n",
      "Requirement already satisfied: wheel in /usr/local/lib/python3.7/dist-packages (0.36.2)\n",
      "Requirement already satisfied: glove-python-binary in /usr/local/lib/python3.7/dist-packages (0.2.0)\n",
      "Requirement already satisfied: numpy in /usr/local/lib/python3.7/dist-packages (from glove-python-binary) (1.19.5)\n",
      "Requirement already satisfied: scipy in /usr/local/lib/python3.7/dist-packages (from glove-python-binary) (1.4.1)\n",
      "Requirement already satisfied: delayed in /usr/local/lib/python3.7/dist-packages (0.11.0b1)\n",
      "Requirement already satisfied: hiredis in /usr/local/lib/python3.7/dist-packages (from delayed) (2.0.0)\n",
      "Requirement already satisfied: redis in /usr/local/lib/python3.7/dist-packages (from delayed) (3.5.3)\n"
     ]
    }
   ],
   "source": [
    "\n",
    "! pip install numpy\n",
    "! pip install pandas\n",
    "! pip install -U nltk\n",
    "! pip install -U scikit-learn\n",
    "! pip install -U gensim\n",
    "! pip install --upgrade tensorflow-hub\n",
    "! pip install pytorch-transformers\n",
    "! pip install torch\n",
    "! pip install spacy\n",
    "! pip install nlp\n",
    "! pip install python-Levenshtein\n",
    "! pip install matplotlib\n",
    "! pip install wheel\n",
    "! pip install glove-python-binary\n",
    "! pip install delayed \n",
    "\n"
   ]
  },
  {
   "cell_type": "code",
   "execution_count": 2,
   "metadata": {
    "executionInfo": {
     "elapsed": 206,
     "status": "ok",
     "timestamp": 1623682010351,
     "user": {
      "displayName": "o kemper",
      "photoUrl": "",
      "userId": "07135009294597268629"
     },
     "user_tz": -120
    },
    "id": "jpbCl3K92l1u"
   },
   "outputs": [],
   "source": [
    "# if using google colab, the kernel should be restarted here if modules were isntalled for the first time\n",
    "# otherwise you may see errors like \"can't import name delayed\"\n"
   ]
  },
  {
   "cell_type": "code",
   "execution_count": 3,
   "metadata": {
    "executionInfo": {
     "elapsed": 5210,
     "status": "ok",
     "timestamp": 1623680727258,
     "user": {
      "displayName": "o kemper",
      "photoUrl": "",
      "userId": "07135009294597268629"
     },
     "user_tz": -120
    },
    "id": "f2ad2c54"
   },
   "outputs": [],
   "source": [
    "import ch16\n",
    "\n",
    "\n",
    "import sys\n",
    "import urllib.request\n",
    "import os\n",
    "\n",
    "import matplotlib.pyplot as plt\n",
    "\n",
    "import numpy as np\n",
    "import pandas as pd\n",
    "import nltk\n",
    "import sklearn\n",
    "from sklearn.manifold import TSNE\n",
    "import gensim\n",
    "import tensorflow as tf\n",
    "import tensorflow_hub as hub\n",
    "from pytorch_transformers import BertTokenizer\n",
    "from pytorch_transformers import BertModel\n",
    "import torch\n",
    "import spacy\n",
    "import nlp"
   ]
  },
  {
   "cell_type": "code",
   "execution_count": null,
   "metadata": {
    "id": "92a93be7",
    "outputId": "c63459a0-2891-4262-d05c-71464cc44f71"
   },
   "outputs": [
    {
     "name": "stdout",
     "output_type": "stream",
     "text": [
      "python 3.8 (✓)\n",
      "numpy 1.19.5(✓)\n",
      "pandas 1.2.4(✓)\n",
      "nltk 3.6.2(✓)\n",
      "sklearn 0.24.2(✓)\n",
      "gensim 4.0.1(✓)\n",
      "tensorflow 2.5.0(✓)\n",
      "tensorflow_hub 0.12.0(✓)\n",
      "pytorch_transformers 1.2.0(✓)\n",
      "pytorch 1.8.1+cu102(✓)\n",
      "spacy 3.0.6(✓)\n",
      "nlp 0.4.0(✓)\n"
     ]
    }
   ],
   "source": [
    "ch16.check_versions()"
   ]
  },
  {
   "cell_type": "markdown",
   "metadata": {},
   "source": [
    "We start by using some random sentences from the Airbnb-Dataset (see chapter 1"
   ]
  },
  {
   "cell_type": "code",
   "execution_count": 4,
   "metadata": {
    "executionInfo": {
     "elapsed": 257,
     "status": "ok",
     "timestamp": 1623680744129,
     "user": {
      "displayName": "o kemper",
      "photoUrl": "",
      "userId": "07135009294597268629"
     },
     "user_tz": -120
    },
    "id": "7bafb173"
   },
   "outputs": [],
   "source": [
    "# use randomly chosen lines from airbnb descriptions\n",
    "\n",
    "tourism_samples = ['Then the final tasting will introduce you to famous Champagne Houses such as Taittinger and Drappier Cozy in a friendly wine shop of Saint Germain you will taste all the products collected during the tour paired with Champagne']\n",
    "tourism_samples1 = ['We begin our adventure in the capital of this magical country starting from the square of the sun and we will walk taking beautiful photographs through the most important monuments until we reach our final destination The Royal Palace ', 'Lastly we will walk talk eat maybe munch some more drink of course/claro que si walk talk some more enjoy our time together and sadly say goodbye   We ll explore a few tapas bars at Salamanca neighborhood the place to avoid touristic traps and enjoy a trendy area where local residents gather & socialize ',  'Because of its artistic history and beautiful church on top of the hill Montmartre is called the most attractive tourist destination in Paris since the beginning of th Century It is also one of the most popular places for the young street artists to express themselves and be seen ', ' All our hiking tours start next to the tiger statue in front of the Oslo Visitor Centre at Jernbanetorget in central Oslo Most buses subways trams and trains stops at Jernbanetorget ', 'First we ll meet at one of our favorite spots a lovely teahouse in the Vondelpark which is loved by locals We ll have a drink and a chat about the plans for your shoot Feel free to share your ideas with us and let s be creative together  Then we will take some pictures at some hidden spots in the park After that we ll take a stroll over the iconic canals stopping at various romantic spots and bridges and then head for the lovely Jordaan area with its historical architecture for some more photo in its small streets away from the touristic places  At the end of the photoshoot we ll have a drink and a small food tasting with typical Dutch snacks in a nice little café that dates back to and is located on a quiet canal in the heart of the Jordaan  Within hours we will provide you with at least professionally shot and edited HD pictures through Wetransfer or USB This way you ll have beautiful memories and new stories to take home with you   At the weekends we love to go for brunch with friends Simply because sometimes we want to stay in bed a little longer than breakfast time and it is actually just too early for lunch ', 'After picking you up at your hotel your st stop on the way hour drive to Bohemia wine region is the only Czech winery awarded with DEMETER biodynamic certification You ll be welcomed by local sommelier He ll give a brief introduction of the winery & biodynamic wine production followed by a cellar tour He ll conduct the wine tasting in the winery ', 'Pinecone courtyard Pius Clementine Museum Cabinet of Masks exclusive entrance  gallery of Candelabras gallery of Tapestries Gallery of Maps Sistine Chapel St Peter']\n",
    "tourism_samples2 = [\" The most awaited Warsaw attraction has become a fact it's amazing that when you're visiting Warsaw you can see the place you're looking at most in Poland you do not need to search for bus connections or use trains anymore despite the large number of kilometers in a comfortable way you will be able to experience and see one of the most beloved historical places in Poland Full day tour from Warsaw to Auschwitz and Birkenau camps You will be picked up from your apartment in Warsaw by me and first we will visit Auschwitz Nazi Concentration Camp including also Birkenau Camp Then you will be transfered to a local restaurant for lunch in Auschwitz or Kraków After the tour you will back to Warsaw on the evening We will Travel by comfortable car Volvo xc Mercedes ML or WV\", '  Regardless if you have been windsurfing before or not you will improve your skills on this intense course With the power from the wind you will slide thru the water silently', \"    We're on winter break until March To request a tour before then send me a private message \", '    Passeio de bike de h em Português bicicleta inclusa ', \"       > Then the final tasting will introduce you to famous Champagne Houses such as Taittinger and Drappier Cozy in a friendly wine shop of Saint Germain you will taste all the products collected during the tour paired with Champagne   Follow the footsteps of your favorite Les Miserables characters through charming and historic Parisian neighborhoods with my passionate narration it's as if we’ll see Marius and Cosette falling in love in the Luxembourg garden the ABC club fighting on the barricade Jean Valjean running from one neighborhood to another to escape Javert Thénardier roaming the sewers \"]\n",
    "tourism_samples3 = ['Once you arrive at our place we have a cup of coffee or another drink for you and of course a Dutch snack Then we will explain how to use the SUP stand up paddling board or canoe After that we will ride together through the beautiful nature Stop wherever you want to take a picture or have a closer look at birds trees or plants Each adventure is unique because of you We will take into account all your wishes ', \"   Explore the Stockholm Archipelago and its more than islands on a guided tour From sandy beaches rocky shores to forests this is something you can’t afford to miss Before heading into your Kayak you get some basic paddling techniques and safety information Afterward you're ready to paddle into the Archipelago and to encounter many islands on your way Before you get too tired have a break on one of the small islands and prepare some organic lunch On your way back you get to enjoy another organic coffee break \", \"  Our Night out are a combination of a party and a bar tour After checking in at our start time you'll grab a drink and meet the group for the evening We then move as a group from venue to venue in total on a route that has been carefully crafted in advance Every unique spot we visit offers the crawl exclusive drink specials and/or free entry st stop free shot discount on fusion cocktails/ nd stop open bar beer &sangria/ rd stop free shot and alot of dance \", \"  When I travel I'm always interested in the local music scene But since it's not always easy for you tourists to find out more about that I created this experience \", '   This very distinctive tour will immerse you in the Jewish heritage of Prague focusing on the history traditions legends that were central to Jewish life As a young Czech historian and journalist I will take you to important areas of the city that were essential to the Nazi occupation and the Holocaust On our walk through the Jewish Quarter we will visit the forgotten departure lounge from which Czech Jewish were placed on train transports to the Nazi death camps In addition we will step into the th Century and tour the Jewish district which at that time was the largest Jewish ghetto in Europe The tour will spotlight the life and writings Franz Kafka Our walk through the Jewish quarter will take us to the magnificent Prague synagogue We will pass by the house in which Franz Kafka was born We will visit the New Jewish Cemetery where Kafka is buried ', '   Eco friendly tour operator\\u200b Nature hike with an experienced outdoor guide Learn how to start a campfire Try spotting wildlife Swim in Swedish lakes Escape the city life in Stockholm’s best kept secret  % Organic campfire cooked lunch % Organic Swedish Fika with lunch Vegetarian Vegan and Gluten Free options are available  An average of – people per tour max persons  Approximately – km distance  We are always going somewhere doing something ', '   This is the perfect activity for a hot summer day Combining an easy hike with a bath in the crystal clear mountain river ', \"  You'll embark the antique saloon boat Delphine in the city centre at the Rijksmuseum dock We will set sail for an early morning experience see the th Century Amsterdam canal area in its quiet hours We’ll have a short stop to retrieve some fresh haring You will enjoy a classic Dutch breakfast I will explain the tradition of the artisan ingredients their origin and specific qualities \", \" This is an extensive half day Vienna adventure that covers and combines a multitude of topics a holistic experience for your mind and your senses handcrafted by a native Viennese who knows his city by heart that will immerse you in the culture and history of Vienna's past and present as well as the special atmosphere of this vibrant metropolis in the middle of Europe Besides getting to know the cultural and historical highlights in and around the Inner City a world heritage site you will also experience my favorite places and secret routes that lead us through historic and contemporary Vienna \", ' Join me and my canine friends as we discover the forests and lakes of the Grunewald I am a professional dog walker and I invite you explore this beautiful part of Berlin with my pack a group of dogs big and small confident and sensitive As we walk we can observe how dogs communicate working playing quarrelling and making friends ']                   \n",
    "tourism_samples4 = ['  We will explore the jungle of my neighbourhood Lavapiés ', \" Let's walk together through the History starting from the ancient Roman amphitheatre and ending up in the oldest parisian public library unknown to tourists We will pass by the Pantheon and Sorbonne University and some famous cafés We will visit the magnificent Luxembourg Garden the oldest Saint Germain des Prés church There will be a sweat break in the middle of our walking tour I will offer you a delicious french treat from one of the most eminent pastry chefs \", \" We will meet in a traditional Dutch canal caffe 'T Smalle for a coffee and get to know each other better to see who is looking for what I will give the map with my selected vintage spots so that later on you will be able to discover more on your own \", \"  https //behrads com @behradsphotography  I’ll guide you in a lively exposition of the cultural religious and historical aspects of the roman civilization through the symbolism and the meanings of the ancient masterpieces I can introduce you to some of the richest collections as the ones of Massimo and Altemps Palaces Capitoline Barracco Etruscan Montemartini Trajan’s Market and Palatine museums The most fascinating locations Baths of Caracalla and Diocletian Stadium of Domitian Piazza Navona to date The Pantheon Colosseum both Roman and Imperial Forum Palatine and Pincian Hills Altar of the Augustan Peace and Mausoleum of Hadrian Castel Sant’Angelo to date The route of the tour is customizable starting from a chosen location then I’ll propose a high quality foot and food tour through the main points selected Special additions will be reserved for restaurants and an exclusive passage into an inner area of the St Peter's Basilica \", ' First of all i will teach you how to make greek phylo which is the basic yeast for all greek pies You are going to make it also by yourself So you will have the chance to create the pie of your preferance The most famous pies from which you can choose is spinach or leek pie cheese pie meet pie trachanas pie  I would be responsible to provide you all necessary ingredients all packed and fresh as i bought them one day earlier than your visit from the local market  At the end you will enjoy fresh fruits and traditional homade greek dessert   This is a private experiense ', '    This three hour flat terrain bike ride leaving from our office takes you to the most famous sights surrounding the Old Town ', '     Learn how to make traditional crêpes get tips on French historical cooking and restaurants in Paris and indulge in a homemade traditional French breakfast made by a chef in a luxurious flat located in the heart of historical Paris ', \"  We will meet at PM at 'Kaffe Kirsche' Böckhstraße Berlin Germany near to the Subway Station U Schönleinstraße grab a coffe and start the tour You'll see Kreuzberg's and Neukölln's coolest local designer atelies showrooms green/upcycle/vintage fashion stores and many more I'll also gladly provide more suggestions for your own discoveries by choosing things that match your style/body/budget \", '      I’m offering a nice photoshoot and fun walk through my favorite spots while I capture the best memories of your day You can decide the mood I specialize in lifestyle portrait fashion food and couple photography ', \"  learn how to wedge clay properly center it on the wheel get to know basic potter's tools  make your first simple cylindrical shapes depending on your progress we can also try making small bowls yay    I invite you for a degustation of polish local food products You will have a chance to try best polish cold cuts and starters that our country is famous from \", \"     All roads lead to Rome If Roman roads are so famous the Ancient Appian Way is the Queen of the Roman Roads and you'll see it exactly as it was years ago First we will meet at the Bar and have a coffee before we start Than we'll bike through a park to the most ancient Roman road the Appian Way with glimpses of rare beauty and get to the ancient Roman Aqueducts immersed in typical Mediterranean nature The ride is relaxing with many stops the pace is slow you get to see Rome off the beaten path enjoying the surprising beauty of mother nature and ancient ruins just a few kilometers apart from the hustle and bustle of the city center So GET READY TO RIDE FOR ALMOST KM MILES through some of the city’s most unique sightseeing discover hidden spots in nature see some of the unknown gems of Rome and get back to your place with perfect pictures During the ride you'll also taste typical flavours of a Roman appetizer \", \" Show your followers something new discover a park not famous among tourists but beloved by the locals Madrid Rio a preserved green area with amazing landscapes and architectural interventions like metal bridges greenhouses artificial beach a cultural center and more A relic hidden right in the middle of the city  Real moment photos you don't have to worry about posing our style focuses on capturing real lifestyle moments with an editorial touch which is exactly what people are looking for in digital influencers right now  Photos that tells a story you'll receive all the photos taken from the experience edited and in high quality already delivered in formats suitable for social media like Instagram Stories vertical photos and Facebook cover  Receive the digital version of my book Influence Marketing for Digital Influencers with end to end tips on how to be successful in this field through marketing techniques    We meet in a special and very old shop of alpargatas tipical spanish shoes were the visitor can know the history of this items and also buy for very cheap price \", '    I charge Swedish Krona per edit for fully retouched photographs in addition to the fixed photographs included   My studio is on the second floor of the apartment After entering our studio we first visited our experience site and a fresh artistic atmosphere came to us There are many easels abundant sunshine by the window good lighting and high popularity Then we will talk about the introduction of painting and how to learn painting We personally demonstrated the method of drawing taught you the basic skills of sketch and then you slowly practice and speculate ', \" Join us for a one of a kind experience in our beautiful city We'll start off with a quick meet and greet and then jump right into our kayaks to start our adventure We will begin in central Prague right by the Charles bridge and start paddling through the Vltava River Throughout our trip we will show you some of the most beautiful historical monuments and locations in Prague including kayaking under the Charles Bridge riding alongside the seat of the Government of the Czech Republic and getting an amazing view of Prague Castle \", '   Windmill next to the Brewery t`IJ Museum square Central train station NEMO Science museum Dam square Nieuwmarkt area Prinsengracht  The Coffee Educators host a full coffee training workshop from bean to cup Using locally roasted beans from around the world We will explore the tasting profiles of coffee You will learn how the origin of coffee beans directly impact the final flavour You will learn how the different methods that are used to process coffee elevation and roast profiles impact the final product ', \"      Moulin Rouge Cabaret and the Red light district  Ateliers and homes of great artists Picasso Van Gogh Renoir Toulouse Lautrec Movie spots from 'Amélie' among others films Square des Abbesses and the romantic 'I love you' wall  The last windmills and beautiful vineyards  We'll find out one of the oldest Parisian church a former abbey We'll finish discovering the Artists Square Place du Tertre and the beautiful Basilica of the Sacred Heart where we'll get fabulous views of the Parisian rooftops   We will meet at my studio in Sèvres Babylone We will start by Colorimetry test The color analysis reveals which color pallets most brighten your natural assets complexion skin tone and body type \", '  Step by step guide in hours ', \" Our Experience as Guide who know the city Streets and it's Best Spots will Guide you through some of The Best Bars    The aim of the tour is to provide an unforgettable experience We drive southeast of the city along the coastal road passing by wonderful beaches so we have a taste of the Athenian Riviera On the way we have a splendid view of the Saronic Gulf and the isles offshore Our first stop ' ' for amazing photos or/and swim at the Vouliagmeni Lake the hidden treasure of Attica's nature Situated on an idyllic landscape this rare geological phenomenon welcomes you The water is half gushes from springs to m deep and half from the sea and its temperature is between degrees Celsius throughout the year With entrance fee € you can also enjoy a thermal spa experience in the brackish waters constantly recycled rich in salts and minerals Also there is a fish spa by the Garra Rufa spa fish \", ' Easter wreath workshop You will learn how to create two amazing eater wreaths for hanging in the doorway and for a beautiful table setting You will learn two different techniques and we will work with foliage and flowers ', \" This Segway's route will allow you to discover importants points of interests in Paris all in just hour \", '  We will experience the streets of the historical Madrid in a very original way as while we will pass by both the most iconic places in the capital and exclusive streets and secret alleys you will get an unforgettable portrait picture I will make sure I will shoot memorable photos of you in each special spot and deliver my photos after the experience via email so that you can remember your time in Madrid forever ', ' This experience is about visiting some royal parks eclectic architecture and Laken cemetery it is the oldest cemetery which is a funeral art museum open to the public daily to Together we will look at the craft art of sculptors and try to seek the signs of life and death cycle Every tomb might tell a story We will take some time and space together to interpret it At some of the tombs I will introduce a historical biographical note ', \"         From our meeting point Via degli Annibaldi that is a stone's throw from Cavour metro station in a few pedal strokes with our e bikes we'll reach the Campidoglio hill to enjoy the most astonishing sunrise you can see in Rome Then our ride we'll bring us to see the most panoramic spots in Rome the sunlight is magic in the morning and gives Rome incredible colours The city is still asleep so this will be the best moment to enjoy also the most tourist places with no stress feeling the sensation of having the beauty of Rome all for you \", \" We'll meet at the Thiseio Metro exit Marley and myself we'll wait for you outside We'll visit the hill of Pnyx to enjoy the fantastic view of Acropolis and Parthenon We will walk in Plaka and the picturesque neighborhood of Anafiotika Time permitting we will visit some special places of Athens not known to tourists All this time I will tell you about the history of Athens and Greece and I will take photos of you with Marley \", ' We will walk as a group over the less crowded routes chatting and taking pictures on the spots I have selected as both original and interesting places suggestions and little changes are welcomed too I take extra care of giving everyone the same attention while giving you possing tips and correct any mistakes so you get the best possible pictures on all spots The idea is to leave the place with fashion grade pictures of you having fun in Paris ', \"         The Musée d'Orsay contains the world's biggest collection of Impressionist art Nearly one out of three Impressionist paintings exhibited in museums all over the world are in this building a beautiful former railway station built for the Universal Exhibition of transformed in museum in \", '     Classic italian aperitif Spritz Original americano drink and classic Milano Torino Elegant Martini Cocktail Traditional cuban mojito  From the centre to suburbs on the off beaten path we will visit places connected by the giant murals They are the leading thread of this itinerary which is much more than a murals’ tour Social aspects history architecture anecdotes about Rome and a bit of culinary make the experience much more appealing and complete to understand some aspect of the Italian culture ', '       Morning class \\u200b coffee/wine around h pm   You will take steps down then all the way up ', \" It's a breakfast walk to remember filled with slices of life history architecture + current events w/ a passionate local food guide writer/researcher We zigzag past Paris' most historic buildings tour it's oldest neighborhoods over charming canals I'll guide you through Paris' most beloved covered marche marche closed monday A leisurely morning w/ stops along the famed Canal St Martin commissioned by Napoleon and in charming manicured gardens in the historic district le Marais to enjoy our treats in the shade We stroll past in the know places to return to for shopping dinner drinks and you'll leave with an excerpt of the Paris is Burning Guide to how to visit Paris like you live here  We end relaxing in one of Paris' oldest/most scandalous buildings w/ coffee by the first female roaster to win the prestigious Meilleur Torrefacteur de France  We offer you a unique experience in Paris a voyage to the heart of the most emblematic musical instrument in France the ACCORDION \", '  the classic dry white of the Loire Valley with its iconic “chèvre” Germany’s Riesling – maybe the world’s best cheese wine – as it enlivens the piquant raw milk Allgäuer Bergkäse from the Alps a gorgeous Austrian rosé paired with a cheesy garlicy dip Piedmont’s world famous elegant red wine along with the Taleggio “tired cow” cheese that complements it so well the sumptuous fruity Spanish combination of sun kissed reds with aged Manchego and of course we will taste how Port from the Duoro is improved by tangy salty ewe’s blue cheese  Come walk through Kreuzberg and Friedrichshain with me your passionate and enthusiastic guide as we cross the city to visit major alternative sights on the eastern side of Berlin ', \"          Couple week end Family time or even solo traveller how often have you visited a city and only walked away with photos of what you ate or pixelated smartphone selfies Let's change that I am a photographer so you're at the right place \", ' Je propose depuis ans une offre adaptée à chaques groupe je viens vous récupérer devant votre appartement ou hôtel et nous découvrons un bout de la ville ensemble et du quartier du restaurant je dois être en relation avec une bonne ene d’autres eux ', ' We’ll hit the streets of Paris seeking out the most beautiful landmarks & hidden locations We will start the session early morning to avoid the crowds However if you would prefer a specific time slot it is also possible The session will take place in a relaxed atmosphere & I will guide you on different poses and positions so no previous experience in front of the camera is necessary Within days I will send you the very best images that have been edited to perfection after the shoot You should expect to receive between fully edited photographs ', ' Join me for this historic walk through Amsterdam and learn all about Anne Frank during the Second World War I will meet you at Waterlooplein and from there we will discover the most important sights about Anne Frank and other Jews during World War We will explore my favorite district in Amsterdam The Jewish Quarter where we will pass the Portuguese Synagogue and the Jewish Council headquarters Together we will discover historical monuments and buildings which are still marked by traces of war ', '  If you want to know what it feels like walking around athens with a passionate local come and join me When feeling like strolling around in my home town i have my favourite route ', ' We will meet at Trocadero and we will take you to a one hour tour of the neighborhood We will have a great time taking pictures in hidden streets near the Eiffel Tower who are not knowed by the tourists ', \" My tour will take us to of the best vegan restaurants in the area of Oud West The walk from restaurant to restaurant allows us to sightsee streets like Jan Pieter Heijestraat Kinkerstraat and Overtoom the gorgeous area above Vondelpark During those walks as well we will chat about history culture our local experience or just about any vegan topic that may come up It will be a fun time that's for sure \", ' Welcome to a city tour through the journey of Amsterdam flea markets ', '   Get to know/see/taste  Amsterdam like a local  ENJOY THE FOOOOOOD  the amazing foodspots To get from A to B we need the bicycle  how it feels to ride on a bike along the beautiful canals  different neigbourhoods  the beautiful hidden gems that Amsterdam has to offer  the highlights architecture and houses of Amsterdam  typical and delicious Dutch treats  your way to the most popular restaurants bars shops hotspots  hangouts in Amsterdam  a lot more    Trip Itinerary semi private tour approximately hours ', '           You have tried the doner and Currywurst and have seen the touristy spots like Brandenburg Gate and Checkpoint Charly You want to explore the alternative and underground side of Berlin and also want to grab some food coffee and even a shot on the way Then my all new package tour might be just the right thing for you ', '  This is a unique wine tasting and bike tour Experience ', '  There’s nothing like night photography The magical feeling you get when you nail a breathtaking long exposure never gets old ', ' Relax and enjoy the feeling of the celebrities where you will walk in the historical streets of Vienna while I am your own photographer who is capturing the beautiful moments and the best memories from your Vienna Visit ', \" I truly believe that Warsaw is one of the most unique place on earth but it's uniquness is not always visible around It is something that comes with understanding Therefore I would like to invite you not only to explore Warsaw with me but also to understand it We will walk around the Old Town to experience city at it's glory but also to find examples of the most uniqe post war reconstruction which is the reason for placing Warsaw on UNESCO Heritage site Monuments and memorials will let you understand tragic times of WW including Jewish ghetto and Warsaw Uprising history We will check if undestroyed Praga is really so dangerous as people say and you will get to know the most famous Warsaw's inhabitants And of course there will be space for unusual spots and Warsaw's hidden gems \", ' Discover authentic Spanish food alongside a hour fun and dynamic explanation of the history of Madrid stopping at three traditional tapas bars for some delicious wine beer sangria with an assortment of tapas such as croquetas Spanish ham Manchego cheese chorizo tortilla and paella finishing off with some traditional Castilian after dinner shots I will also be delighted to give you recommendations of what to do for the rest of your stay ', '     We will meet under the Water Tower near Cafe Restaurant Amsterdam I live right around the corner and will tell you a little about the neighborhood After that we will take minutes to make sure everyone is comfortable on their bike ', '   We will start with a light warm up of some jogging and active stretching usually followed by some games and partner work to get ready for the workout minutes ', ' Starting point from Place de Concorde one of my favourite spots in the city of love thanks to its overwhelming monuments e g Oblélisque de Louxor  From there we will walk through jardin des Tuileries to Musée du Louvre an architechural masterpiece  We will cross Cité island the cradle of Paris and end up in Saint Michel with its beautiful Notre Dame  I will do my best to teach you about Paris history and French language when I can  NOT YOUR BASIC FOOD TOUR All food is included ️', '                   Imagine an alternative present a world of coal and steel where monocled archaeologists rend the ground with blackened steam shovels and clock work automata sift through marble fragments of gods and emperors in search of forgotten treasures ', \"     The pictures will be delivered in / days on your email throught the website Wetransfer The website provide a service to deliver multiple pictures all at once You will receive an email from Wetransfer with a link inside to download the pics The link will expire in days  I will teach you how to make many types of homemade pasta in a real laboratory of pasta reviewed on the prestigious Il Gambero Rosso guide from We will start with handmade pasta made with different kind of grains like ancient grain Triticum Monococcum considered the first cereal cultivated by man around BC Senatore Cappelli created by Nazareno Strampelli on this grain disappear in the ' and arrived to the present days thanks to some small farmers and the gluten free flour Grano Saraceno buckwheat We will do thin sheets dough also colored in green with spinach or brown with sour cocoa explanation of safe food cutting procedures realization of three types of ravioli fettuccine one tipical italian sauce like Simple sauce Besciamella Carbonara Cacio e Pepe or Gricia sauce and one vegan type of pasta without egg We can also accomodate gluten free allergy guests for a very tasty GLUTEN FREE FRESH PASTA \"]"
   ]
  },
  {
   "cell_type": "code",
   "execution_count": 5,
   "metadata": {
    "colab": {
     "base_uri": "https://localhost:8080/"
    },
    "executionInfo": {
     "elapsed": 303,
     "status": "ok",
     "timestamp": 1623680747010,
     "user": {
      "displayName": "o kemper",
      "photoUrl": "",
      "userId": "07135009294597268629"
     },
     "user_tz": -120
    },
    "id": "aab05edc",
    "outputId": "0f1752cd-4514-4ba6-9b8c-c5556ca6addb"
   },
   "outputs": [
    {
     "name": "stdout",
     "output_type": "stream",
     "text": [
      "   Information  Tourism  is  lifeblood  of  the\n",
      "0            0        0   1          0   0    0\n",
      "1            0        0   0          0   0    1\n",
      "2            0        0   0          0   1    0\n",
      "3            1        0   0          0   0    0\n",
      "4            0        1   0          0   0    0\n",
      "5            0        0   0          1   0    0\n"
     ]
    }
   ],
   "source": [
    "# One Hot Encoding\n",
    "import pandas as pd\n",
    "\n",
    "data = \"Information is the lifeblood of Tourism\"\n",
    "words = data.split(\" \")\n",
    "uniqueWords = list(set(words))\n",
    "pd.set_option('display.max_columns', None)  # or 1000\n",
    "pd.set_option('display.max_rows', None)  # or 1000\n",
    "pd.set_option('display.max_colwidth', None)\n",
    "encoded = pd.get_dummies(uniqueWords)\n",
    "print(encoded)"
   ]
  },
  {
   "cell_type": "code",
   "execution_count": 8,
   "metadata": {
    "colab": {
     "base_uri": "https://localhost:8080/"
    },
    "executionInfo": {
     "elapsed": 569,
     "status": "ok",
     "timestamp": 1623680917885,
     "user": {
      "displayName": "o kemper",
      "photoUrl": "",
      "userId": "07135009294597268629"
     },
     "user_tz": -120
    },
    "id": "c1014691",
    "outputId": "18a4b48d-9e32-4e04-8723-8ef481a8b4ee"
   },
   "outputs": [
    {
     "name": "stdout",
     "output_type": "stream",
     "text": [
      "['city', 'located', 'city', 'center', 'Salzburg', '.']\n",
      "['this', 'hotel', 'is', 'a', 'city', 'hotel', 'and', 'it', 'is', 'located', 'in', 'the', 'city', 'center', 'of', 'Salzburg', '.']\n"
     ]
    },
    {
     "name": "stderr",
     "output_type": "stream",
     "text": [
      "[nltk_data] Downloading package stopwords to /root/nltk_data...\n",
      "[nltk_data]   Unzipping corpora/stopwords.zip.\n",
      "[nltk_data] Downloading package punkt to /root/nltk_data...\n",
      "[nltk_data]   Package punkt is already up-to-date!\n"
     ]
    }
   ],
   "source": [
    "# Bag of Words\n",
    "import nltk\n",
    "\n",
    "sentence1=[\"This hotel is a city hotel and it is located in the city center of Salzburg.\"]\n",
    "\n",
    "# uncomment the following line if you get an error \"resource stopwords not found\" \n",
    "nltk.download('stopwords')\n",
    "# uncomment the following line if you get an error \"resource punkt not found\" \n",
    "nltk.download('punkt')\n",
    "\n",
    "from nltk.corpus import stopwords\n",
    "    \n",
    "from nltk.tokenize import word_tokenize\n",
    "\n",
    "text = \"this hotel is a city hotel and it is located in the city center of Salzburg.\"\n",
    "text_tokens = word_tokenize(text)\n",
    "\n",
    "tokens_without_sw = [word for word in text_tokens if not word in stopwords.words()]\n",
    "\n",
    "print(tokens_without_sw)\n",
    "print(text_tokens)"
   ]
  },
  {
   "cell_type": "code",
   "execution_count": 9,
   "metadata": {
    "colab": {
     "base_uri": "https://localhost:8080/",
     "height": 111
    },
    "executionInfo": {
     "elapsed": 221,
     "status": "ok",
     "timestamp": 1623680976884,
     "user": {
      "displayName": "o kemper",
      "photoUrl": "",
      "userId": "07135009294597268629"
     },
     "user_tz": -120
    },
    "id": "c77737f1",
    "outputId": "e7633ec6-0b8f-47d6-aa4e-01075cef9b32"
   },
   "outputs": [
    {
     "data": {
      "text/html": [
       "<div>\n",
       "<style scoped>\n",
       "    .dataframe tbody tr th:only-of-type {\n",
       "        vertical-align: middle;\n",
       "    }\n",
       "\n",
       "    .dataframe tbody tr th {\n",
       "        vertical-align: top;\n",
       "    }\n",
       "\n",
       "    .dataframe thead th {\n",
       "        text-align: right;\n",
       "    }\n",
       "</style>\n",
       "<table border=\"1\" class=\"dataframe\">\n",
       "  <thead>\n",
       "    <tr style=\"text-align: right;\">\n",
       "      <th></th>\n",
       "      <th>altered</th>\n",
       "      <th>industry</th>\n",
       "      <th>information</th>\n",
       "      <th>internet</th>\n",
       "      <th>is</th>\n",
       "      <th>lifeblood</th>\n",
       "      <th>of</th>\n",
       "      <th>the</th>\n",
       "      <th>tourism</th>\n",
       "    </tr>\n",
       "  </thead>\n",
       "  <tbody>\n",
       "    <tr>\n",
       "      <th>0</th>\n",
       "      <td>0.000000</td>\n",
       "      <td>0.000000</td>\n",
       "      <td>0.446656</td>\n",
       "      <td>0.000000</td>\n",
       "      <td>0.446656</td>\n",
       "      <td>0.446656</td>\n",
       "      <td>0.446656</td>\n",
       "      <td>0.317800</td>\n",
       "      <td>0.317800</td>\n",
       "    </tr>\n",
       "    <tr>\n",
       "      <th>1</th>\n",
       "      <td>0.425196</td>\n",
       "      <td>0.425196</td>\n",
       "      <td>0.000000</td>\n",
       "      <td>0.425196</td>\n",
       "      <td>0.000000</td>\n",
       "      <td>0.000000</td>\n",
       "      <td>0.000000</td>\n",
       "      <td>0.605061</td>\n",
       "      <td>0.302531</td>\n",
       "    </tr>\n",
       "  </tbody>\n",
       "</table>\n",
       "</div>"
      ],
      "text/plain": [
       "    altered  industry  information  internet        is  lifeblood        of  \\\n",
       "0  0.000000  0.000000     0.446656  0.000000  0.446656   0.446656  0.446656   \n",
       "1  0.425196  0.425196     0.000000  0.425196  0.000000   0.000000  0.000000   \n",
       "\n",
       "        the   tourism  \n",
       "0  0.317800  0.317800  \n",
       "1  0.605061  0.302531  "
      ]
     },
     "execution_count": 9,
     "metadata": {
      "tags": []
     },
     "output_type": "execute_result"
    }
   ],
   "source": [
    "# TF-IDF\n",
    "# https://medium.com/analytics-vidhya/a-beginners-guide-to-natural-language-processing-part-4-734b995c53ea\n",
    "\n",
    "from sklearn.feature_extraction.text import TfidfVectorizer\n",
    "import pandas as pd\n",
    "\n",
    "# text for which we are making vectors\n",
    "corpus = [\"information is the lifeblood of tourism\", \"the internet altered the tourism industry\"]\n",
    "\n",
    "# initialize TV object\n",
    "tv = TfidfVectorizer()\n",
    "\n",
    "# fit trains the object to obtain the vocabulary.\n",
    "# transform converts the text into vectors\n",
    "tf_vects = tv.fit_transform(corpus)\n",
    "\n",
    "# column names are unique words or bigrams/phrases or even entire documents\n",
    "tv.get_feature_names()\n",
    "\n",
    "# convert to a dataframe to display\n",
    "tf_vect_df = pd.DataFrame(tf_vects.todense(), columns=tv.get_feature_names())\n",
    "tf_vects.toarray()\n",
    "# array([[0.52284231, 0.        , 0.        , 0.67325467, 0.52284231, 0.        ],\n",
    "#       [0.29903422, 0.385061  , 0.50630894, 0.385061  , 0.59806843, 0.        ],\n",
    "#       [0.32401895, 0.4172334 , 0.        , 0.        , 0.64803791, 0.54861178]])\n",
    "\n",
    "tf_vect_df"
   ]
  },
  {
   "cell_type": "code",
   "execution_count": 11,
   "metadata": {
    "colab": {
     "base_uri": "https://localhost:8080/"
    },
    "executionInfo": {
     "elapsed": 203,
     "status": "ok",
     "timestamp": 1623681013722,
     "user": {
      "displayName": "o kemper",
      "photoUrl": "",
      "userId": "07135009294597268629"
     },
     "user_tz": -120
    },
    "id": "a8013bac",
    "outputId": "e7b70ee0-5d3f-4e52-df38-d1ac27e80727"
   },
   "outputs": [
    {
     "name": "stdout",
     "output_type": "stream",
     "text": [
      "[-0.02503948 -0.00309923  0.03179422 -0.02439745 -0.00777907 -0.0064599\n",
      "  0.02692479 -0.01976895  0.00015144 -0.01584692 -0.0320114   0.01669125\n",
      " -0.02919874 -0.01463991 -0.00011661 -0.00098758 -0.02553702  0.032049\n",
      "  0.01660642  0.030778   -0.02719328  0.0149859  -0.01378915  0.00274967\n",
      "  0.02832836 -0.01487381  0.01505885 -0.02262343 -0.01182844  0.03132877]\n"
     ]
    },
    {
     "data": {
      "text/plain": [
       "array([[-0.00080314]], dtype=float32)"
      ]
     },
     "execution_count": 11,
     "metadata": {
      "tags": []
     },
     "output_type": "execute_result"
    }
   ],
   "source": [
    "# Word2vec\n",
    "# https://medium.com/analytics-vidhya/a-beginners-guide-to-natural-language-processing-part-5-10709cdc1d34\n",
    "# https://towardsdatascience.com/word-embeddings-exploration-explanation-and-exploitation-with-code-in-python-5dac99d5d795\n",
    "    \n",
    "# uncomment the following line if you get an error \"resource punkt not found\" \n",
    "# nltk.download('punkt')\n",
    "\n",
    "# import the training model\n",
    "from gensim.models import Word2Vec\n",
    "# import the scoring metric\n",
    "from sklearn.metrics.pairwise import cosine_similarity\n",
    "\n",
    "# processed data as a list\n",
    "list_of_strings = ['the internet altered the tourism industry', 'information is the lifeblood of tourism', 'people like to travel in summer']\n",
    "# making the sentences into tokens\n",
    "all_words = [nltk.word_tokenize(sent) for sent in list_of_strings]\n",
    "\n",
    "# training the model\n",
    "# since we have a very small corpus, we take a small window and min_count\n",
    "# vector_size is the embedding size\n",
    "word2vec = Word2Vec(sentences=all_words, min_count=1, vector_size=30, window=2)\n",
    "\n",
    "# store the vocabulary\n",
    "vocabulary = word2vec.wv.key_to_index\n",
    "\n",
    "# get the embeddings of the words\n",
    "v1 = word2vec.wv['tourism']\n",
    "v2 = word2vec.wv['travel']\n",
    "v3 = word2vec.wv['internet']\n",
    "\n",
    "\n",
    "print(v1)\n",
    "      \n",
    "# check similarity of 2 embeddings\n",
    "cosine_similarity([v1],[v2])\n",
    "# result\n",
    "# array([[0.09820592]], dtype=float32)"
   ]
  },
  {
   "cell_type": "markdown",
   "metadata": {
    "id": "5239db98"
   },
   "source": [
    "# ELMO"
   ]
  },
  {
   "cell_type": "code",
   "execution_count": 12,
   "metadata": {
    "colab": {
     "base_uri": "https://localhost:8080/"
    },
    "executionInfo": {
     "elapsed": 7670,
     "status": "ok",
     "timestamp": 1623681025443,
     "user": {
      "displayName": "o kemper",
      "photoUrl": "",
      "userId": "07135009294597268629"
     },
     "user_tz": -120
    },
    "id": "37edd5c0",
    "outputId": "ded54a1a-b4c1-41f1-e130-47f19b7d0435"
   },
   "outputs": [
    {
     "name": "stdout",
     "output_type": "stream",
     "text": [
      "WARNING:tensorflow:From /usr/local/lib/python3.7/dist-packages/tensorflow/python/compat/v2_compat.py:96: disable_resource_variables (from tensorflow.python.ops.variable_scope) is deprecated and will be removed in a future version.\n",
      "Instructions for updating:\n",
      "non-resource variables are not supported in the long term\n",
      "INFO:tensorflow:Saver not created because there are no variables in the graph to restore\n"
     ]
    },
    {
     "name": "stderr",
     "output_type": "stream",
     "text": [
      "INFO:tensorflow:Saver not created because there are no variables in the graph to restore\n"
     ]
    },
    {
     "data": {
      "text/plain": [
       "TensorShape([Dimension(1), Dimension(38), Dimension(1024)])"
      ]
     },
     "execution_count": 12,
     "metadata": {
      "tags": []
     },
     "output_type": "execute_result"
    }
   ],
   "source": [
    "# ELMO\n",
    "# https://medium.com/analytics-vidhya/a-step-by-step-nlp-guide-to-learn-elmo-for-extracting-features-from-text-de0d77e32a99\n",
    "# https://github.com/PrashantRanjan09/Elmo-Tutorial/blob/master/Elmo_tutorial.ipynb\n",
    "# https://towardsdatascience.com/elmo-contextual-language-embedding-335de2268604\n",
    "\n",
    "import tensorflow_hub as hub \n",
    "# import tensorflow as tf \n",
    "import tensorflow.compat.v1 as tf\n",
    "tf.disable_v2_behavior()\n",
    "\n",
    " \n",
    "# downloading the pretrained model\n",
    "# if you get an error saying that the name is already in use, change 'elmo_module1' to somthing else \n",
    "elmo = hub.Module(\"https://tfhub.dev/google/elmo/3\", trainable=True, name='elmo_module1')\n",
    "\n",
    "# sample input\n",
    "sample_input = [\"Information is the lifeblood of tourism. The internet has altered the tourism industry\"]\n",
    "#sample_input = [\"there is a lot of grass on the river bank. The bank is closed during the holidqays\"]\n",
    "sample_input= ['He kicked the bucket.', 'I have yet to cross-off all the items on my bucket list.', 'The bucket was filled with water.']\n",
    "sample_input = tourism_samples\n",
    "# getting the output dictionary for the sample\n",
    "output = elmo(sample_input,\n",
    "             signature=\"default\",\n",
    "             as_dict=True)\n",
    "\n",
    "# getting the embeddings by selecting 'elmo' from the dictionary\n",
    "embeddings = output['elmo']\n",
    "\n",
    "embeddings.shape\n",
    "\n"
   ]
  },
  {
   "cell_type": "markdown",
   "metadata": {
    "id": "b58d5227"
   },
   "source": [
    "The embedding tensor we get as output is three-dimensional. The first dimension corresponds to the number of samples, the second is the length of the longest string in the input. The third dimension is the vector representation of  the input sample: the ELMo vector. This means that every word in the input has an ELMo vector representation of size 1024.\n",
    "\n",
    "For the  example text, we get a tensor of shape 1 (1 sample) x 38 (longest text has 38 words) x 1024 (ELMo vector length). "
   ]
  },
  {
   "cell_type": "code",
   "execution_count": 13,
   "metadata": {
    "colab": {
     "base_uri": "https://localhost:8080/"
    },
    "executionInfo": {
     "elapsed": 3524,
     "status": "ok",
     "timestamp": 1623681035951,
     "user": {
      "displayName": "o kemper",
      "photoUrl": "",
      "userId": "07135009294597268629"
     },
     "user_tz": -120
    },
    "id": "7a1c5829",
    "outputId": "87d7da98-787a-4fe9-b7aa-bb88470aba83"
   },
   "outputs": [
    {
     "data": {
      "text/plain": [
       "(1, 1024)"
      ]
     },
     "execution_count": 13,
     "metadata": {
      "tags": []
     },
     "output_type": "execute_result"
    }
   ],
   "source": [
    "# get a single vector for a text string (eg. a sentence, but it can also be a longer text)\n",
    "with tf.Session() as sess:\n",
    "    sess.run(tf.global_variables_initializer())\n",
    "    sess.run(tf.tables_initializer())\n",
    "    # return average of ELMo features\n",
    "    emb =  sess.run(tf.reduce_mean(embeddings,1))\n",
    "emb.shape"
   ]
  },
  {
   "cell_type": "code",
   "execution_count": 14,
   "metadata": {
    "executionInfo": {
     "elapsed": 82412,
     "status": "ok",
     "timestamp": 1623681122734,
     "user": {
      "displayName": "o kemper",
      "photoUrl": "",
      "userId": "07135009294597268629"
     },
     "user_tz": -120
    },
    "id": "e59595ce"
   },
   "outputs": [],
   "source": [
    "# get tokens (word emnbeddings), labels (words)\n",
    "# this may take some time\n",
    "tokens = []\n",
    "labels = []\n",
    "with tf.Session() as sess:\n",
    "    sess.run(tf.global_variables_initializer())\n",
    "    sess.run(tf.tables_initializer())\n",
    "    for k in range(len(sample_input)):\n",
    "        for i, word in enumerate(sample_input[k].split()):\n",
    "            tokens.append(sess.run(embeddings[k][i]))\n",
    "            labels.append(word)\n"
   ]
  },
  {
   "cell_type": "code",
   "execution_count": 15,
   "metadata": {
    "executionInfo": {
     "elapsed": 322,
     "status": "ok",
     "timestamp": 1623681138174,
     "user": {
      "displayName": "o kemper",
      "photoUrl": "",
      "userId": "07135009294597268629"
     },
     "user_tz": -120
    },
    "id": "341592ce"
   },
   "outputs": [],
   "source": [
    "# reduce dimension and plot the vectors\n",
    "# directly see similarity between words\n",
    "\n",
    "def tsne_plot(tokens, labels):\n",
    "    # see https://github.com/PrashantRanjan09/Elmo-Tutorial/blob/master/Elmo_tutorial.ipynb\n",
    "    # reduce the dimension of the elmo vectors to 2 so they can be plotted\n",
    "    data = np.array(tokens)\n",
    "\n",
    "    tsne_model = TSNE(perplexity=6, n_components=2, init='random', n_iter=500)\n",
    "    tsne_data = tsne_model.fit_transform(data)\n",
    "    x = []\n",
    "    y = []\n",
    "    for value in tsne_data:\n",
    "        x.append(value[0])\n",
    "        y.append(value[1])\n",
    "        \n",
    "    plt.figure(figsize=(15, 12)) \n",
    "    for i in range(len(x)):\n",
    "        plt.scatter(x[i],y[i])\n",
    "        plt.annotate(labels[i],\n",
    "                     xy=(x[i], y[i]),\n",
    "                     xytext=(5, 2),\n",
    "                     textcoords='offset points',\n",
    "                     ha='right',\n",
    "                     va='bottom')\n",
    "    plt.show()    "
   ]
  },
  {
   "cell_type": "code",
   "execution_count": 16,
   "metadata": {
    "colab": {
     "base_uri": "https://localhost:8080/",
     "height": 700
    },
    "executionInfo": {
     "elapsed": 1179,
     "status": "ok",
     "timestamp": 1623681155036,
     "user": {
      "displayName": "o kemper",
      "photoUrl": "",
      "userId": "07135009294597268629"
     },
     "user_tz": -120
    },
    "id": "6a18e9e8",
    "outputId": "a3a16809-477a-4c50-cd63-0efebf3c20fb"
   },
   "outputs": [
    {
     "data": {
      "image/png": "[encoded data removed]",
      "text/plain": [
       "<Figure size 1080x864 with 1 Axes>"
      ]
     },
     "metadata": {
      "needs_background": "light",
      "tags": []
     },
     "output_type": "display_data"
    }
   ],
   "source": [
    "tsne_plot(tokens, labels)"
   ]
  },
  {
   "cell_type": "markdown",
   "metadata": {
    "id": "1f392747"
   },
   "source": [
    "this example demonstrates how even in a very small text sample, groups words with similar context together well."
   ]
  },
  {
   "cell_type": "markdown",
   "metadata": {
    "id": "af6e58e2"
   },
   "source": [
    "# Fasttext\n",
    "see https://towardsdatascience.com/word-embedding-with-word2vec-and-fasttext-a209c1d3e12c\n",
    "\n",
    "FastText is an extension to Word2Vec. However, unlike Word2Vec, it breaks words into parts called n-grams. For example, the word 'apple' would be broken down into tri-grams: 'app', 'ppl' and 'ple'. The word embedding for 'apple' is then summed from the embeddings of its tri-grams. This has the effect that for rare words, the embeddings are enriched with context, since some of their n-grams will also appear in more frequent words, allowing FastText to use their context as well.  \n"
   ]
  },
  {
   "cell_type": "code",
   "execution_count": 17,
   "metadata": {
    "executionInfo": {
     "elapsed": 1711,
     "status": "ok",
     "timestamp": 1623681165931,
     "user": {
      "displayName": "o kemper",
      "photoUrl": "",
      "userId": "07135009294597268629"
     },
     "user_tz": -120
    },
    "id": "052f1edd"
   },
   "outputs": [],
   "source": [
    "from gensim.models import FastText\n",
    "    \n",
    "# use tourism_samples (list of strings) as text sample\n",
    "# convert to string\n",
    "sample_string = ' '.join(tourism_samples4)\n",
    "\n",
    "# separate words \n",
    "sample_text = [[w for w in line.split(' ') if w and not len(w)==0]for line in tourism_samples4 ]\n",
    "#print(len(sample_text), 'lines')\n",
    "# 50 lines\n",
    "\n",
    "# sample_text is now a list of lists of string which contain words \n",
    "# train model\n",
    "model = FastText(sample_text, vector_size=100, window=5, min_count=5, workers=4,sg=1)\n",
    "\n",
    "#glove_vectors = gensim.downloader.load('glove-wiki-gigaword-300')\n",
    "#model = FastText(sentences_ted, size=100, window=5, min_count=5, workers=4,sg=1)\n"
   ]
  },
  {
   "cell_type": "code",
   "execution_count": 18,
   "metadata": {
    "colab": {
     "base_uri": "https://localhost:8080/"
    },
    "executionInfo": {
     "elapsed": 205,
     "status": "ok",
     "timestamp": 1623681170378,
     "user": {
      "displayName": "o kemper",
      "photoUrl": "",
      "userId": "07135009294597268629"
     },
     "user_tz": -120
    },
    "id": "c76067de",
    "outputId": "4edb3c5b-c81a-49b3-da0d-98722e1b1258",
    "scrolled": true
   },
   "outputs": [
    {
     "name": "stdout",
     "output_type": "stream",
     "text": [
      "True\n"
     ]
    },
    {
     "data": {
      "text/plain": [
       "[('different', 0.9999220967292786),\n",
       " ('history', 0.9999016523361206),\n",
       " ('beautiful', 0.9999011754989624),\n",
       " ('historical', 0.9999009966850281),\n",
       " ('place', 0.9999001026153564),\n",
       " ('discover', 0.9998992085456848),\n",
       " ('start', 0.9998990893363953),\n",
       " ('experience', 0.9998974204063416),\n",
       " ('places', 0.9998962879180908),\n",
       " ('Amsterdam', 0.9998939633369446)]"
      ]
     },
     "execution_count": 18,
     "metadata": {
      "tags": []
     },
     "output_type": "execute_result"
    }
   ],
   "source": [
    "# find similar words using a word that appears in the training set \n",
    "\n",
    "print('traditional' in sample_string)\n",
    "model.wv.most_similar(\"traditional\")"
   ]
  },
  {
   "cell_type": "code",
   "execution_count": 19,
   "metadata": {
    "colab": {
     "base_uri": "https://localhost:8080/"
    },
    "executionInfo": {
     "elapsed": 274,
     "status": "ok",
     "timestamp": 1623681173206,
     "user": {
      "displayName": "o kemper",
      "photoUrl": "",
      "userId": "07135009294597268629"
     },
     "user_tz": -120
    },
    "id": "896d4b69",
    "outputId": "d06d6aa4-7ff1-4c1f-e321-395f9ff99607"
   },
   "outputs": [
    {
     "name": "stdout",
     "output_type": "stream",
     "text": [
      "False\n"
     ]
    },
    {
     "data": {
      "text/plain": [
       "[('guide', 0.9988070130348206),\n",
       " ('start', 0.9987667798995972),\n",
       " ('through', 0.9987577795982361),\n",
       " ('ride', 0.9987448453903198),\n",
       " ('your', 0.99874347448349),\n",
       " ('hidden', 0.9987286329269409),\n",
       " ('our', 0.9987218379974365),\n",
       " ('Rome', 0.998715877532959),\n",
       " ('bike', 0.9987115859985352),\n",
       " ('beautiful', 0.99869304895401)]"
      ]
     },
     "execution_count": 19,
     "metadata": {
      "tags": []
     },
     "output_type": "execute_result"
    }
   ],
   "source": [
    "# but wen can also find similar words to words that do not appear in the training set\n",
    "# dues to the small size of the set, the similar words however have to be drawn the \n",
    "# cooking subjects  \n",
    "\n",
    "print('countryside' in sample_string)\n",
    "model.wv.most_similar(\"countryside\")\n",
    "#print(sample_text)"
   ]
  },
  {
   "cell_type": "markdown",
   "metadata": {
    "id": "7fdcbdd4"
   },
   "source": [
    "## GloVe \n",
    "Glove means 'Global Vectors for Word Representation'.  It is developed as an open-source project at Stanford University. 'Global' means that the word vector reflects the meaning of the word within the entire corpus. Glove uses word frequency and co-occurence. The resulting vector can be compared to other vectors for word similarity.  "
   ]
  },
  {
   "cell_type": "code",
   "execution_count": 20,
   "metadata": {
    "colab": {
     "base_uri": "https://localhost:8080/"
    },
    "executionInfo": {
     "elapsed": 41978,
     "status": "ok",
     "timestamp": 1623681221960,
     "user": {
      "displayName": "o kemper",
      "photoUrl": "",
      "userId": "07135009294597268629"
     },
     "user_tz": -120
    },
    "id": "9b656403",
    "outputId": "877d082b-896d-4284-901b-d2eb5aad3e22"
   },
   "outputs": [
    {
     "name": "stdout",
     "output_type": "stream",
     "text": [
      "Performing 30 training epochs with 4 threads\n",
      "Epoch 0\n",
      "Epoch 1\n",
      "Epoch 2\n",
      "Epoch 3\n",
      "Epoch 4\n",
      "Epoch 5\n",
      "Epoch 6\n",
      "Epoch 7\n",
      "Epoch 8\n",
      "Epoch 9\n",
      "Epoch 10\n",
      "Epoch 11\n",
      "Epoch 12\n",
      "Epoch 13\n",
      "Epoch 14\n",
      "Epoch 15\n",
      "Epoch 16\n",
      "Epoch 17\n",
      "Epoch 18\n",
      "Epoch 19\n",
      "Epoch 20\n",
      "Epoch 21\n",
      "Epoch 22\n",
      "Epoch 23\n",
      "Epoch 24\n",
      "Epoch 25\n",
      "Epoch 26\n",
      "Epoch 27\n",
      "Epoch 28\n",
      "Epoch 29\n"
     ]
    }
   ],
   "source": [
    "import itertools\n",
    "from gensim.models.word2vec import Text8Corpus\n",
    "\n",
    "# this part does not work in windows (glove's Corpus() throws an error)\n",
    "\n",
    "# using glove_python\n",
    "from glove import Corpus, Glove\n",
    "\n",
    "# get file 'text8', (linux commands)\n",
    "#if not os.path.isfile('text8'):\n",
    "#    !wget http://mattmahoney.net/dc/text8.zip && unzip text8.zip\n",
    "\n",
    "# get file 'airbnb_total.txt' from github\n",
    "#import requests\n",
    "#url = 'https://raw.githubusercontent.com/mateinfour/chapter16/main/airbnb_total.txt'\n",
    "#r = requests.get(url, allow_redirects=True)\n",
    "#with open('file_airbnb_total.txt', 'wb') as f:\n",
    "#    f.write(r.content)\n",
    "    \n",
    "# load file locally ('airbnb_total.txt')           \n",
    "\n",
    "# use 'text8 or airbnb_total.txt'        \n",
    "# sentences and corpus from standard library\n",
    "sentences = list(itertools.islice(Text8Corpus('airbnb_total.txt'),None))\n",
    "corpus = Corpus()\n",
    "\n",
    "# training the corpus to generate the co-occurrence matrix used in GloVe\n",
    "corpus.fit(corpus=sentences, window=10)\n",
    "#creating a Glove object which uses the co-occurrence matrix to create embeddings\n",
    "glove = Glove(no_components=100, learning_rate=0.05)\n",
    "\n",
    "# training the model. this may take quite some time\n",
    "#if not os.path.isfile('glove.model'):\n",
    "glove.fit(corpus.matrix, epochs=30, no_threads=4, verbose=True)\n",
    "# add dictionary to glove object\n",
    "glove.add_dictionary(corpus.dictionary)\n",
    "# saving the model\n",
    "glove.save('glove.model')"
   ]
  },
  {
   "cell_type": "markdown",
   "metadata": {
    "id": "122d1df1"
   },
   "source": [
    "Creating a glove model uses the co-occurrence matrix generated by the Corpus object to create the embeddings.\n",
    "The corpus.fit method takes two arguments:\n",
    "\n",
    "corpus — the 2D array input with lines of text\n",
    "\n",
    "window — the maximum distance between two words to find some relationship between them"
   ]
  },
  {
   "cell_type": "code",
   "execution_count": 21,
   "metadata": {
    "executionInfo": {
     "elapsed": 240,
     "status": "ok",
     "timestamp": 1623681227605,
     "user": {
      "displayName": "o kemper",
      "photoUrl": "",
      "userId": "07135009294597268629"
     },
     "user_tz": -120
    },
    "id": "7211cf59"
   },
   "outputs": [],
   "source": [
    "# get embeddings for sample text\n",
    "# this may take some time\n",
    "input_sample = tourism_samples\n",
    "\n",
    "tokens = []\n",
    "labels = []\n",
    "for sentence in tourism_samples:\n",
    "    for word in sentence.split(' '):\n",
    "        #word = word.replace('.', '').lower()\n",
    "        tokens.append(glove.word_vectors[glove.dictionary[word]])\n",
    "        labels.append(word)"
   ]
  },
  {
   "cell_type": "code",
   "execution_count": 22,
   "metadata": {
    "colab": {
     "base_uri": "https://localhost:8080/",
     "height": 700
    },
    "executionInfo": {
     "elapsed": 1083,
     "status": "ok",
     "timestamp": 1623681233117,
     "user": {
      "displayName": "o kemper",
      "photoUrl": "",
      "userId": "07135009294597268629"
     },
     "user_tz": -120
    },
    "id": "8f0e3228",
    "outputId": "b1d9a667-a29b-496d-e2db-b194485c0396"
   },
   "outputs": [
    {
     "data": {
      "image/png": "[encoded data removed]",
      "text/plain": [
       "<Figure size 1080x864 with 1 Axes>"
      ]
     },
     "metadata": {
      "needs_background": "light",
      "tags": []
     },
     "output_type": "display_data"
    }
   ],
   "source": [
    "# plot words of sample sentence downprojected to 2D using t-sne \n",
    "tsne_plot(tokens, labels)"
   ]
  },
  {
   "cell_type": "markdown",
   "metadata": {
    "id": "1ceac5cd"
   },
   "source": [
    "\n"
   ]
  },
  {
   "cell_type": "code",
   "execution_count": 23,
   "metadata": {
    "colab": {
     "base_uri": "https://localhost:8080/"
    },
    "executionInfo": {
     "elapsed": 16381,
     "status": "ok",
     "timestamp": 1623681252811,
     "user": {
      "displayName": "o kemper",
      "photoUrl": "",
      "userId": "07135009294597268629"
     },
     "user_tz": -120
    },
    "id": "7632e9c1",
    "outputId": "b2092dd3-be6f-485b-91be-8430a93ec0a2"
   },
   "outputs": [
    {
     "name": "stderr",
     "output_type": "stream",
     "text": [
      "100%|██████████| 231508/231508 [00:00<00:00, 2846232.33B/s]\n",
      "100%|██████████| 433/433 [00:00<00:00, 128357.74B/s]\n",
      "100%|██████████| 440473133/440473133 [00:10<00:00, 42191169.19B/s]\n"
     ]
    },
    {
     "name": "stdout",
     "output_type": "stream",
     "text": [
      "[CLS]           101\n",
      "information   2,592\n",
      "is            2,003\n",
      "the           1,996\n",
      "life          2,166\n",
      "##blood      26,682\n",
      "of            1,997\n",
      "tourism       6,813\n",
      ".             1,012\n",
      "the           1,996\n",
      "internet      4,274\n",
      "has           2,038\n",
      "altered       8,776\n",
      "the           1,996\n",
      "tourism       6,813\n",
      "industry      3,068\n",
      "[SEP]           102\n"
     ]
    }
   ],
   "source": [
    "# BERT\n",
    "\n",
    "from pytorch_transformers import BertTokenizer\n",
    "from pytorch_transformers import BertModel\n",
    "\n",
    "## Load pretrained model/tokenizer\n",
    "tokenizer = BertTokenizer.from_pretrained('bert-base-uncased')\n",
    "model = BertModel.from_pretrained('bert-base-uncased',output_hidden_states=True)\n",
    "\n",
    "# Define a new example sentence with multiple meanings of the word \"bank\"\n",
    "text = \"Information is the lifeblood of tourism. The internet has altered the tourism industry\"\n",
    "\n",
    "# Add the special tokens.\n",
    "marked_text = \"[CLS] \" + text + \" [SEP]\"\n",
    "\n",
    "# Split the sentence into tokens.\n",
    "tokenized_text = tokenizer.tokenize(marked_text)\n",
    "\n",
    "# Map the token strings to their vocabulary indeces.\n",
    "indexed_tokens = tokenizer.convert_tokens_to_ids(tokenized_text)\n",
    "\n",
    "# Display the words with their indeces.\n",
    "for tup in zip(tokenized_text, indexed_tokens):\n",
    "    print('{:<12} {:>6,}'.format(tup[0], tup[1]))"
   ]
  },
  {
   "cell_type": "code",
   "execution_count": 24,
   "metadata": {
    "colab": {
     "base_uri": "https://localhost:8080/"
    },
    "executionInfo": {
     "elapsed": 208,
     "status": "ok",
     "timestamp": 1623681258413,
     "user": {
      "displayName": "o kemper",
      "photoUrl": "",
      "userId": "07135009294597268629"
     },
     "user_tz": -120
    },
    "id": "929e9169",
    "outputId": "39cde38a-c4ef-4f73-a651-d6bbc4aed31c"
   },
   "outputs": [
    {
     "data": {
      "text/plain": [
       "BertModel(\n",
       "  (embeddings): BertEmbeddings(\n",
       "    (word_embeddings): Embedding(30522, 768, padding_idx=0)\n",
       "    (position_embeddings): Embedding(512, 768)\n",
       "    (token_type_embeddings): Embedding(2, 768)\n",
       "    (LayerNorm): LayerNorm((768,), eps=1e-12, elementwise_affine=True)\n",
       "    (dropout): Dropout(p=0.1, inplace=False)\n",
       "  )\n",
       "  (encoder): BertEncoder(\n",
       "    (layer): ModuleList(\n",
       "      (0): BertLayer(\n",
       "        (attention): BertAttention(\n",
       "          (self): BertSelfAttention(\n",
       "            (query): Linear(in_features=768, out_features=768, bias=True)\n",
       "            (key): Linear(in_features=768, out_features=768, bias=True)\n",
       "            (value): Linear(in_features=768, out_features=768, bias=True)\n",
       "            (dropout): Dropout(p=0.1, inplace=False)\n",
       "          )\n",
       "          (output): BertSelfOutput(\n",
       "            (dense): Linear(in_features=768, out_features=768, bias=True)\n",
       "            (LayerNorm): LayerNorm((768,), eps=1e-12, elementwise_affine=True)\n",
       "            (dropout): Dropout(p=0.1, inplace=False)\n",
       "          )\n",
       "        )\n",
       "        (intermediate): BertIntermediate(\n",
       "          (dense): Linear(in_features=768, out_features=3072, bias=True)\n",
       "        )\n",
       "        (output): BertOutput(\n",
       "          (dense): Linear(in_features=3072, out_features=768, bias=True)\n",
       "          (LayerNorm): LayerNorm((768,), eps=1e-12, elementwise_affine=True)\n",
       "          (dropout): Dropout(p=0.1, inplace=False)\n",
       "        )\n",
       "      )\n",
       "      (1): BertLayer(\n",
       "        (attention): BertAttention(\n",
       "          (self): BertSelfAttention(\n",
       "            (query): Linear(in_features=768, out_features=768, bias=True)\n",
       "            (key): Linear(in_features=768, out_features=768, bias=True)\n",
       "            (value): Linear(in_features=768, out_features=768, bias=True)\n",
       "            (dropout): Dropout(p=0.1, inplace=False)\n",
       "          )\n",
       "          (output): BertSelfOutput(\n",
       "            (dense): Linear(in_features=768, out_features=768, bias=True)\n",
       "            (LayerNorm): LayerNorm((768,), eps=1e-12, elementwise_affine=True)\n",
       "            (dropout): Dropout(p=0.1, inplace=False)\n",
       "          )\n",
       "        )\n",
       "        (intermediate): BertIntermediate(\n",
       "          (dense): Linear(in_features=768, out_features=3072, bias=True)\n",
       "        )\n",
       "        (output): BertOutput(\n",
       "          (dense): Linear(in_features=3072, out_features=768, bias=True)\n",
       "          (LayerNorm): LayerNorm((768,), eps=1e-12, elementwise_affine=True)\n",
       "          (dropout): Dropout(p=0.1, inplace=False)\n",
       "        )\n",
       "      )\n",
       "      (2): BertLayer(\n",
       "        (attention): BertAttention(\n",
       "          (self): BertSelfAttention(\n",
       "            (query): Linear(in_features=768, out_features=768, bias=True)\n",
       "            (key): Linear(in_features=768, out_features=768, bias=True)\n",
       "            (value): Linear(in_features=768, out_features=768, bias=True)\n",
       "            (dropout): Dropout(p=0.1, inplace=False)\n",
       "          )\n",
       "          (output): BertSelfOutput(\n",
       "            (dense): Linear(in_features=768, out_features=768, bias=True)\n",
       "            (LayerNorm): LayerNorm((768,), eps=1e-12, elementwise_affine=True)\n",
       "            (dropout): Dropout(p=0.1, inplace=False)\n",
       "          )\n",
       "        )\n",
       "        (intermediate): BertIntermediate(\n",
       "          (dense): Linear(in_features=768, out_features=3072, bias=True)\n",
       "        )\n",
       "        (output): BertOutput(\n",
       "          (dense): Linear(in_features=3072, out_features=768, bias=True)\n",
       "          (LayerNorm): LayerNorm((768,), eps=1e-12, elementwise_affine=True)\n",
       "          (dropout): Dropout(p=0.1, inplace=False)\n",
       "        )\n",
       "      )\n",
       "      (3): BertLayer(\n",
       "        (attention): BertAttention(\n",
       "          (self): BertSelfAttention(\n",
       "            (query): Linear(in_features=768, out_features=768, bias=True)\n",
       "            (key): Linear(in_features=768, out_features=768, bias=True)\n",
       "            (value): Linear(in_features=768, out_features=768, bias=True)\n",
       "            (dropout): Dropout(p=0.1, inplace=False)\n",
       "          )\n",
       "          (output): BertSelfOutput(\n",
       "            (dense): Linear(in_features=768, out_features=768, bias=True)\n",
       "            (LayerNorm): LayerNorm((768,), eps=1e-12, elementwise_affine=True)\n",
       "            (dropout): Dropout(p=0.1, inplace=False)\n",
       "          )\n",
       "        )\n",
       "        (intermediate): BertIntermediate(\n",
       "          (dense): Linear(in_features=768, out_features=3072, bias=True)\n",
       "        )\n",
       "        (output): BertOutput(\n",
       "          (dense): Linear(in_features=3072, out_features=768, bias=True)\n",
       "          (LayerNorm): LayerNorm((768,), eps=1e-12, elementwise_affine=True)\n",
       "          (dropout): Dropout(p=0.1, inplace=False)\n",
       "        )\n",
       "      )\n",
       "      (4): BertLayer(\n",
       "        (attention): BertAttention(\n",
       "          (self): BertSelfAttention(\n",
       "            (query): Linear(in_features=768, out_features=768, bias=True)\n",
       "            (key): Linear(in_features=768, out_features=768, bias=True)\n",
       "            (value): Linear(in_features=768, out_features=768, bias=True)\n",
       "            (dropout): Dropout(p=0.1, inplace=False)\n",
       "          )\n",
       "          (output): BertSelfOutput(\n",
       "            (dense): Linear(in_features=768, out_features=768, bias=True)\n",
       "            (LayerNorm): LayerNorm((768,), eps=1e-12, elementwise_affine=True)\n",
       "            (dropout): Dropout(p=0.1, inplace=False)\n",
       "          )\n",
       "        )\n",
       "        (intermediate): BertIntermediate(\n",
       "          (dense): Linear(in_features=768, out_features=3072, bias=True)\n",
       "        )\n",
       "        (output): BertOutput(\n",
       "          (dense): Linear(in_features=3072, out_features=768, bias=True)\n",
       "          (LayerNorm): LayerNorm((768,), eps=1e-12, elementwise_affine=True)\n",
       "          (dropout): Dropout(p=0.1, inplace=False)\n",
       "        )\n",
       "      )\n",
       "      (5): BertLayer(\n",
       "        (attention): BertAttention(\n",
       "          (self): BertSelfAttention(\n",
       "            (query): Linear(in_features=768, out_features=768, bias=True)\n",
       "            (key): Linear(in_features=768, out_features=768, bias=True)\n",
       "            (value): Linear(in_features=768, out_features=768, bias=True)\n",
       "            (dropout): Dropout(p=0.1, inplace=False)\n",
       "          )\n",
       "          (output): BertSelfOutput(\n",
       "            (dense): Linear(in_features=768, out_features=768, bias=True)\n",
       "            (LayerNorm): LayerNorm((768,), eps=1e-12, elementwise_affine=True)\n",
       "            (dropout): Dropout(p=0.1, inplace=False)\n",
       "          )\n",
       "        )\n",
       "        (intermediate): BertIntermediate(\n",
       "          (dense): Linear(in_features=768, out_features=3072, bias=True)\n",
       "        )\n",
       "        (output): BertOutput(\n",
       "          (dense): Linear(in_features=3072, out_features=768, bias=True)\n",
       "          (LayerNorm): LayerNorm((768,), eps=1e-12, elementwise_affine=True)\n",
       "          (dropout): Dropout(p=0.1, inplace=False)\n",
       "        )\n",
       "      )\n",
       "      (6): BertLayer(\n",
       "        (attention): BertAttention(\n",
       "          (self): BertSelfAttention(\n",
       "            (query): Linear(in_features=768, out_features=768, bias=True)\n",
       "            (key): Linear(in_features=768, out_features=768, bias=True)\n",
       "            (value): Linear(in_features=768, out_features=768, bias=True)\n",
       "            (dropout): Dropout(p=0.1, inplace=False)\n",
       "          )\n",
       "          (output): BertSelfOutput(\n",
       "            (dense): Linear(in_features=768, out_features=768, bias=True)\n",
       "            (LayerNorm): LayerNorm((768,), eps=1e-12, elementwise_affine=True)\n",
       "            (dropout): Dropout(p=0.1, inplace=False)\n",
       "          )\n",
       "        )\n",
       "        (intermediate): BertIntermediate(\n",
       "          (dense): Linear(in_features=768, out_features=3072, bias=True)\n",
       "        )\n",
       "        (output): BertOutput(\n",
       "          (dense): Linear(in_features=3072, out_features=768, bias=True)\n",
       "          (LayerNorm): LayerNorm((768,), eps=1e-12, elementwise_affine=True)\n",
       "          (dropout): Dropout(p=0.1, inplace=False)\n",
       "        )\n",
       "      )\n",
       "      (7): BertLayer(\n",
       "        (attention): BertAttention(\n",
       "          (self): BertSelfAttention(\n",
       "            (query): Linear(in_features=768, out_features=768, bias=True)\n",
       "            (key): Linear(in_features=768, out_features=768, bias=True)\n",
       "            (value): Linear(in_features=768, out_features=768, bias=True)\n",
       "            (dropout): Dropout(p=0.1, inplace=False)\n",
       "          )\n",
       "          (output): BertSelfOutput(\n",
       "            (dense): Linear(in_features=768, out_features=768, bias=True)\n",
       "            (LayerNorm): LayerNorm((768,), eps=1e-12, elementwise_affine=True)\n",
       "            (dropout): Dropout(p=0.1, inplace=False)\n",
       "          )\n",
       "        )\n",
       "        (intermediate): BertIntermediate(\n",
       "          (dense): Linear(in_features=768, out_features=3072, bias=True)\n",
       "        )\n",
       "        (output): BertOutput(\n",
       "          (dense): Linear(in_features=3072, out_features=768, bias=True)\n",
       "          (LayerNorm): LayerNorm((768,), eps=1e-12, elementwise_affine=True)\n",
       "          (dropout): Dropout(p=0.1, inplace=False)\n",
       "        )\n",
       "      )\n",
       "      (8): BertLayer(\n",
       "        (attention): BertAttention(\n",
       "          (self): BertSelfAttention(\n",
       "            (query): Linear(in_features=768, out_features=768, bias=True)\n",
       "            (key): Linear(in_features=768, out_features=768, bias=True)\n",
       "            (value): Linear(in_features=768, out_features=768, bias=True)\n",
       "            (dropout): Dropout(p=0.1, inplace=False)\n",
       "          )\n",
       "          (output): BertSelfOutput(\n",
       "            (dense): Linear(in_features=768, out_features=768, bias=True)\n",
       "            (LayerNorm): LayerNorm((768,), eps=1e-12, elementwise_affine=True)\n",
       "            (dropout): Dropout(p=0.1, inplace=False)\n",
       "          )\n",
       "        )\n",
       "        (intermediate): BertIntermediate(\n",
       "          (dense): Linear(in_features=768, out_features=3072, bias=True)\n",
       "        )\n",
       "        (output): BertOutput(\n",
       "          (dense): Linear(in_features=3072, out_features=768, bias=True)\n",
       "          (LayerNorm): LayerNorm((768,), eps=1e-12, elementwise_affine=True)\n",
       "          (dropout): Dropout(p=0.1, inplace=False)\n",
       "        )\n",
       "      )\n",
       "      (9): BertLayer(\n",
       "        (attention): BertAttention(\n",
       "          (self): BertSelfAttention(\n",
       "            (query): Linear(in_features=768, out_features=768, bias=True)\n",
       "            (key): Linear(in_features=768, out_features=768, bias=True)\n",
       "            (value): Linear(in_features=768, out_features=768, bias=True)\n",
       "            (dropout): Dropout(p=0.1, inplace=False)\n",
       "          )\n",
       "          (output): BertSelfOutput(\n",
       "            (dense): Linear(in_features=768, out_features=768, bias=True)\n",
       "            (LayerNorm): LayerNorm((768,), eps=1e-12, elementwise_affine=True)\n",
       "            (dropout): Dropout(p=0.1, inplace=False)\n",
       "          )\n",
       "        )\n",
       "        (intermediate): BertIntermediate(\n",
       "          (dense): Linear(in_features=768, out_features=3072, bias=True)\n",
       "        )\n",
       "        (output): BertOutput(\n",
       "          (dense): Linear(in_features=3072, out_features=768, bias=True)\n",
       "          (LayerNorm): LayerNorm((768,), eps=1e-12, elementwise_affine=True)\n",
       "          (dropout): Dropout(p=0.1, inplace=False)\n",
       "        )\n",
       "      )\n",
       "      (10): BertLayer(\n",
       "        (attention): BertAttention(\n",
       "          (self): BertSelfAttention(\n",
       "            (query): Linear(in_features=768, out_features=768, bias=True)\n",
       "            (key): Linear(in_features=768, out_features=768, bias=True)\n",
       "            (value): Linear(in_features=768, out_features=768, bias=True)\n",
       "            (dropout): Dropout(p=0.1, inplace=False)\n",
       "          )\n",
       "          (output): BertSelfOutput(\n",
       "            (dense): Linear(in_features=768, out_features=768, bias=True)\n",
       "            (LayerNorm): LayerNorm((768,), eps=1e-12, elementwise_affine=True)\n",
       "            (dropout): Dropout(p=0.1, inplace=False)\n",
       "          )\n",
       "        )\n",
       "        (intermediate): BertIntermediate(\n",
       "          (dense): Linear(in_features=768, out_features=3072, bias=True)\n",
       "        )\n",
       "        (output): BertOutput(\n",
       "          (dense): Linear(in_features=3072, out_features=768, bias=True)\n",
       "          (LayerNorm): LayerNorm((768,), eps=1e-12, elementwise_affine=True)\n",
       "          (dropout): Dropout(p=0.1, inplace=False)\n",
       "        )\n",
       "      )\n",
       "      (11): BertLayer(\n",
       "        (attention): BertAttention(\n",
       "          (self): BertSelfAttention(\n",
       "            (query): Linear(in_features=768, out_features=768, bias=True)\n",
       "            (key): Linear(in_features=768, out_features=768, bias=True)\n",
       "            (value): Linear(in_features=768, out_features=768, bias=True)\n",
       "            (dropout): Dropout(p=0.1, inplace=False)\n",
       "          )\n",
       "          (output): BertSelfOutput(\n",
       "            (dense): Linear(in_features=768, out_features=768, bias=True)\n",
       "            (LayerNorm): LayerNorm((768,), eps=1e-12, elementwise_affine=True)\n",
       "            (dropout): Dropout(p=0.1, inplace=False)\n",
       "          )\n",
       "        )\n",
       "        (intermediate): BertIntermediate(\n",
       "          (dense): Linear(in_features=768, out_features=3072, bias=True)\n",
       "        )\n",
       "        (output): BertOutput(\n",
       "          (dense): Linear(in_features=3072, out_features=768, bias=True)\n",
       "          (LayerNorm): LayerNorm((768,), eps=1e-12, elementwise_affine=True)\n",
       "          (dropout): Dropout(p=0.1, inplace=False)\n",
       "        )\n",
       "      )\n",
       "    )\n",
       "  )\n",
       "  (pooler): BertPooler(\n",
       "    (dense): Linear(in_features=768, out_features=768, bias=True)\n",
       "    (activation): Tanh()\n",
       "  )\n",
       ")"
      ]
     },
     "execution_count": 24,
     "metadata": {
      "tags": []
     },
     "output_type": "execute_result"
    }
   ],
   "source": [
    "import torch\n",
    "\n",
    "# Convert inputs to PyTorch tensors\n",
    "tokens_tensor = torch.tensor([indexed_tokens])\n",
    "\n",
    "# Put the model in \"evaluation\" mode, meaning feed-forward operation.\n",
    "model.eval()"
   ]
  },
  {
   "cell_type": "code",
   "execution_count": 25,
   "metadata": {
    "executionInfo": {
     "elapsed": 558,
     "status": "ok",
     "timestamp": 1623681263798,
     "user": {
      "displayName": "o kemper",
      "photoUrl": "",
      "userId": "07135009294597268629"
     },
     "user_tz": -120
    },
    "id": "2cd8b283"
   },
   "outputs": [],
   "source": [
    "# Run the text through BERT, get the output and collect all of the hidden states produced\n",
    "# from all 12 layers. \n",
    "with torch.no_grad():\n",
    "\n",
    "    outputs = model(tokens_tensor)\n",
    "\n",
    "    # can use last hidden state as word embeddings\n",
    "    last_hidden_state = outputs[0]\n",
    "    word_embed_1 = last_hidden_state\n",
    "\n",
    "    # Evaluating the model will return a different number of objects based on \n",
    "    # how it's  configured in the `from_pretrained` call earlier. In this case, \n",
    "    # becase we set `output_hidden_states = True`, the third item will be the \n",
    "    # hidden states from all layers. See the documentation for more details:\n",
    "    # https://huggingface.co/transformers/model_doc/bert.html#bertmodel\n",
    "    hidden_states = outputs[2]\n",
    "\n",
    "    # initial embeddings can be taken from 0th layer of hidden states\n",
    "    word_embed_2 = hidden_states[0]\n",
    "\n",
    "    # sum of all hidden states\n",
    "    word_embed_3 = torch.stack(hidden_states).sum(0)\n",
    "\n",
    "    # sum of second to last layer\n",
    "    word_embed_4 = torch.stack(hidden_states[2:]).sum(0) \n",
    "\n",
    "    # sum of last four layer\n",
    "    word_embed_5 = torch.stack(hidden_states[-4:]).sum(0) \n",
    "\n",
    "    #concat last four layers\n",
    "    word_embed_6 = torch.cat([hidden_states[i] for i in [-1,-2,-3,-4]], dim=-1)"
   ]
  },
  {
   "cell_type": "code",
   "execution_count": 26,
   "metadata": {
    "colab": {
     "base_uri": "https://localhost:8080/"
    },
    "executionInfo": {
     "elapsed": 213,
     "status": "ok",
     "timestamp": 1623681269967,
     "user": {
      "displayName": "o kemper",
      "photoUrl": "",
      "userId": "07135009294597268629"
     },
     "user_tz": -120
    },
    "id": "1e749c08",
    "outputId": "48f68550-53d1-46c5-860f-c046a6437a76",
    "scrolled": true
   },
   "outputs": [
    {
     "data": {
      "text/plain": [
       "tensor([[[ 0.7243, -1.2354, -0.0534,  ..., -2.1715,  2.0711,  1.8883],\n",
       "         [-1.4286,  1.9369,  2.2106,  ..., -0.3266,  0.6072, -0.6579],\n",
       "         [ 0.4992,  1.5606,  2.6297,  ..., -1.0799,  1.9338,  1.1836],\n",
       "         ...,\n",
       "         [ 2.8947,  1.6819,  4.9113,  ..., -0.4594,  2.3798, -0.0314],\n",
       "         [-0.7187,  1.2479,  0.6565,  ..., -2.9043,  3.4472, -1.7060],\n",
       "         [ 0.4703, -0.0677,  0.4450,  ..., -0.1805, -0.0650, -0.6184]]])"
      ]
     },
     "execution_count": 26,
     "metadata": {
      "tags": []
     },
     "output_type": "execute_result"
    }
   ],
   "source": [
    "word_embed_5"
   ]
  },
  {
   "cell_type": "markdown",
   "metadata": {
    "id": "3629d70c"
   },
   "source": [
    "## Playing with text vectors"
   ]
  },
  {
   "cell_type": "markdown",
   "metadata": {
    "id": "bb8f3b5a"
   },
   "source": [
    "## GloVe"
   ]
  },
  {
   "cell_type": "code",
   "execution_count": 27,
   "metadata": {
    "colab": {
     "base_uri": "https://localhost:8080/"
    },
    "executionInfo": {
     "elapsed": 222,
     "status": "ok",
     "timestamp": 1623681275321,
     "user": {
      "displayName": "o kemper",
      "photoUrl": "",
      "userId": "07135009294597268629"
     },
     "user_tz": -120
    },
    "id": "e15bae37",
    "outputId": "6c315a94-4e50-42b0-f0ad-6e9132f0293c"
   },
   "outputs": [
    {
     "name": "stdout",
     "output_type": "stream",
     "text": [
      "found vectors for 129 cities\n",
      "washington -> [ 0.033331   -0.10067     0.00043131 -0.17152     0.023796  ]...\n",
      "london -> [-0.04269 -0.512    0.41169  0.58458  0.11428]...\n",
      "mexico_city -> [ 0.3      0.80191 -0.72953 -0.42422 -0.27676]...\n",
      "beijing -> [ 0.069266  0.071872  0.01913  -0.51634   0.031598]...\n",
      "paris -> [ 0.28199  -0.043577 -0.2124   -0.21808   0.011582]...\n",
      "atlanta -> [ 0.29485  0.23427 -0.13973  0.14887  0.30857]...\n"
     ]
    }
   ],
   "source": [
    "# download glove.6B.zip from http://nlp.stanford.edu/data/glove.6B.zip \n",
    "# the archive contains several files\n",
    "# extract the archive and place file glove.6B.300d.txt in current directory\n",
    "\n",
    "# if you want to use the entire glove.6B.300d.txt uncomment the following lines and comment out the\n",
    "# lines for the city vectors\n",
    "# embeddings = {}\n",
    "# if not embeddings:\n",
    "#    with open('glove.6B.300d.txt') as f:\n",
    "#          embeddings = {l.split()[0]: np.array(l.split()[1:]).astype('float') for l in f}\n",
    "\n",
    "# here, we'll use only city vectors\n",
    "with open('vectors_tourist_cities.txt') as f:\n",
    "    embeddings = {l.split()[0]: np.array(l.split()[1:]).astype('float') for l in f}\n",
    "\n",
    "with open('vectors_tourist_cities.txt') as f:\n",
    "    vectors_tourist_cities = f.read().split('\\n')[:-1]\n",
    "print(f'found vectors for {len(vectors_tourist_cities)} cities')\n",
    "\n",
    "# look at the first 5 embeddings (and the first 5 dimension of each vector)\n",
    "for i, (k, v) in enumerate(embeddings.items()):\n",
    "    print('{} -> {}...'.format(k, v[:5]))\n",
    "    if i == 5:\n",
    "        break\n",
    "#if not os.path.isfile('wiki-news-300d-1M.vec'):\n",
    "#    !wget https://dl.fbaipublicfiles.com/fasttext/vectors-english/wiki-news-300d-1M.vec.zip && unzip \"wiki-news-300d-1M.vec.zip\"\n",
    "#if not os.path.isfile('vectors.vec'):\n",
    "#    pass\n",
    "#!cat wiki-news-300d-1M.vec | head -n 50001 | tail -n 50000 > vectors.vec\n"
   ]
  },
  {
   "cell_type": "code",
   "execution_count": 28,
   "metadata": {
    "executionInfo": {
     "elapsed": 209,
     "status": "ok",
     "timestamp": 1623681279626,
     "user": {
      "displayName": "o kemper",
      "photoUrl": "",
      "userId": "07135009294597268629"
     },
     "user_tz": -120
    },
    "id": "0db90df0"
   },
   "outputs": [],
   "source": [
    "# define a function to calculate euclidean distance between the vectors\n",
    "# this will serve as similarity measure (the distance is greater when the vectors point farther away from each other)\n",
    "\n",
    "def get_closest(x, top_k=3):\n",
    "    \"\"\"\n",
    "    Get the closest embeddings calculating the euclidean distance\n",
    "    x: np.ndarray\n",
    "    Vector containing an embedding\n",
    "    top_k: int, optional\n",
    "    Get the top k similar embeddings\n",
    "    Returns : Dict containing the top k similar embeddings to the given x\n",
    "    \"\"\"\n",
    "    # Stack all embeddings in a single matrix. Note: the matrix dimension will be\n",
    "    # V x D where V is the vocabulary size and D is the embedding dimension\n",
    "    embedding_matrix = np.array(list(embeddings.values()))\n",
    "    # Using broadcasting to compute distance to each embedding in our vocabulary\n",
    "    distances = x - embedding_matrix\n",
    "    # Compute the magnitude (norm) of each distance\n",
    "    distances = np.linalg.norm(distances, axis=1)\n",
    "    # Sort distance and keep the smallest k\n",
    "    min_idx = np.argsort(distances)[:top_k]\n",
    "    return {list(embeddings)[i]: embedding_matrix[i] for i in min_idx}"
   ]
  },
  {
   "cell_type": "code",
   "execution_count": 29,
   "metadata": {
    "colab": {
     "base_uri": "https://localhost:8080/"
    },
    "executionInfo": {
     "elapsed": 208,
     "status": "ok",
     "timestamp": 1623681283393,
     "user": {
      "displayName": "o kemper",
      "photoUrl": "",
      "userId": "07135009294597268629"
     },
     "user_tz": -120
    },
    "id": "23896f3e",
    "outputId": "21a7d9bf-ba64-4a99-9568-047316680883"
   },
   "outputs": [
    {
     "name": "stdout",
     "output_type": "stream",
     "text": [
      "['miami', 'orlando', 'dallas', 'houston', 'chicago']\n",
      "['hamburg', 'munich', 'berlin', 'frankfurt', 'amsterdam']\n"
     ]
    }
   ],
   "source": [
    "# retrieve top 5 similar embeddings for 'paris'\n",
    "similar_city = get_closest(embeddings['miami'], top_k=5)\n",
    "print(list(similar_city))\n",
    "\n",
    "# retrieve top 5 similar embeddings for 'athens'\n",
    "similar_city2 = get_closest(embeddings['hamburg'], top_k=5)\n",
    "print(list(similar_city2))"
   ]
  },
  {
   "cell_type": "markdown",
   "metadata": {
    "id": "8a948086"
   },
   "source": [
    "this seems to work well. let's look at the vectors and their distance in a 2D plot "
   ]
  },
  {
   "cell_type": "code",
   "execution_count": 31,
   "metadata": {
    "colab": {
     "base_uri": "https://localhost:8080/",
     "height": 700
    },
    "executionInfo": {
     "elapsed": 2267,
     "status": "ok",
     "timestamp": 1623681299737,
     "user": {
      "displayName": "o kemper",
      "photoUrl": "",
      "userId": "07135009294597268629"
     },
     "user_tz": -120
    },
    "id": "a5a8b492",
    "outputId": "988b03ec-d787-4e26-ff72-ad36852e85d5"
   },
   "outputs": [
    {
     "data": {
      "image/png": "[encoded data removed]",
      "text/plain": [
       "<Figure size 1080x864 with 1 Axes>"
      ]
     },
     "metadata": {
      "needs_background": "light",
      "tags": []
     },
     "output_type": "display_data"
    }
   ],
   "source": [
    "# using dimensionality reduction to plot word clusters\n",
    "\n",
    "# plot simlar cities \n",
    "vectors = []\n",
    "labels = []\n",
    "words = similar_city.copy()\n",
    "words.update(similar_city2)\n",
    "for word in words:\n",
    "    vectors.append(words[word])\n",
    "    labels.append(word)\n",
    "\n",
    "# plot all cities in list\n",
    "vectors = []\n",
    "labels = []\n",
    "for line in vectors_tourist_cities:\n",
    "    word = line[:line.index(' ')]\n",
    "    labels.append(word)\n",
    "    vector = line[line.index(' '):].split(' ')[1:]\n",
    "    vector=[float(f) for f in vector]\n",
    "    vector = np.array(vector)\n",
    "    vectors.append(vector)\n",
    "\n",
    "    \n",
    "tsne_plot(vectors, labels)       "
   ]
  },
  {
   "cell_type": "markdown",
   "metadata": {
    "id": "eeb6d447"
   },
   "source": [
    "When plotting all cities, the clusters seem to follow geographical location only. While that seems to be a major criterion, clusters for indin and chinese cities are far apart - reflecting a different context despite of close location."
   ]
  },
  {
   "cell_type": "markdown",
   "metadata": {
    "id": "1eb8cb33"
   },
   "source": [
    "### analogies"
   ]
  },
  {
   "cell_type": "code",
   "execution_count": 32,
   "metadata": {
    "colab": {
     "base_uri": "https://localhost:8080/"
    },
    "executionInfo": {
     "elapsed": 228,
     "status": "ok",
     "timestamp": 1623681306340,
     "user": {
      "displayName": "o kemper",
      "photoUrl": "",
      "userId": "07135009294597268629"
     },
     "user_tz": -120
    },
    "id": "1bc855a0",
    "outputId": "aae1a009-3985-4aad-859c-666ca181661d"
   },
   "outputs": [
    {
     "name": "stdout",
     "output_type": "stream",
     "text": [
      "['austria', 'vienna', 'germany']\n"
     ]
    }
   ],
   "source": [
    "# items that are similar are clustered in higher dimensional space, However, also the distances between words\n",
    "# that have a similar relation- like King-man, Queen-woman- are similar. \n",
    "# Therefore, we can try to solve an anaolgy like man-king, woman? -> Queen by using arithmetics:\n",
    "# we assume that man-king is similar to woman-queen. taking that as an equation man-king=woman-queen, we can resolve it for queen:\n",
    "# queen = man - king + woman\n",
    "# lets try that with cities: hamburg is to germany like vienna to ?\n",
    " \n",
    "# add country vectors    \n",
    "with open('vectors_countries.txt', 'r') as f:\n",
    "    embeddings_countries = {l.split()[0]: np.array(l.split()[1:]).astype('float') for l in f}\n",
    "\n",
    "embeddings.update(embeddings_countries)\n",
    "    \n",
    "# get vectors\n",
    "hamburg = embeddings['hamburg']\n",
    "germany = embeddings['germany']\n",
    "vienna = embeddings['vienna']\n",
    "# calculate\n",
    "city_vector = germany-hamburg+vienna\n",
    "analog = get_closest(city_vector, top_k=3) \n",
    "\n",
    "print(list(analog))\n",
    "\n"
   ]
  },
  {
   "cell_type": "markdown",
   "metadata": {
    "id": "f2382df4"
   },
   "source": [
    "glove has correctly guessed that vienna is related to austria in a similar way as hamburg is to germany "
   ]
  },
  {
   "cell_type": "markdown",
   "metadata": {
    "id": "df9d5a6a"
   },
   "source": [
    "## Word2vec"
   ]
  },
  {
   "cell_type": "code",
   "execution_count": 33,
   "metadata": {
    "colab": {
     "base_uri": "https://localhost:8080/"
    },
    "executionInfo": {
     "elapsed": 532,
     "status": "ok",
     "timestamp": 1623681312729,
     "user": {
      "displayName": "o kemper",
      "photoUrl": "",
      "userId": "07135009294597268629"
     },
     "user_tz": -120
    },
    "id": "79db25ff",
    "outputId": "a4923519-764c-444a-9608-be8664bf741f"
   },
   "outputs": [
    {
     "name": "stderr",
     "output_type": "stream",
     "text": [
      "WARNING:gensim.models.word2vec:Effective 'alpha' higher than previous training cycles\n"
     ]
    },
    {
     "name": "stdout",
     "output_type": "stream",
     "text": [
      "words similar to vienna: \n",
      "['immersed', 'comfortable', 'win', 'charly', 'events', 'responsible', 'bring', 'touristy', 'reserved', 'profiles']\n"
     ]
    }
   ],
   "source": [
    "# use Word2Vec to find most similar words\n",
    "# see https://radimrehurek.com/gensim/models/word2vec.html\n",
    "\n",
    "from gensim.models import Word2Vec\n",
    "# import small text example for testing\n",
    "from gensim.test.utils import common_texts\n",
    "\n",
    "\n",
    "# create small text sample from tourist_samples4\n",
    "sample_text = [[w.lower() for w in line.split(' ') if w and len(w)>2] for line in tourism_samples4]\n",
    "\n",
    "#sentences = common_texts\n",
    "sentences = sample_text\n",
    "\n",
    "model = Word2Vec(sentences=sentences, vector_size=100, window=5, min_count=1, workers=4)\n",
    "model.train(sentences, total_examples=model.corpus_count, epochs=2)\n",
    "\n",
    "# get similar words\n",
    "word = 'vienna'\n",
    "vector = model.wv[word]  # get numpy vector of a word\n",
    "sims = model.wv.most_similar(word, topn=10)  # get other similar words\n",
    "\n",
    "print(f'words similar to {word}: ')\n",
    "print([w[0] for w in sims])\n",
    "\n",
    "# download model pretrained on larger corpus\n",
    "#import gensim.downloader\n",
    "# Show available models in gensim-data\n",
    "# print(list(gensim.downloader.info()['models'].keys()))\n",
    "\n",
    "# Download the \"glove-wiki-gigaword-300\" embeddings (may take some time)\n",
    "#glove_vectors = gensim.downloader.load('glove-wiki-gigaword-300')\n",
    "\n",
    "# use the downloaded embeddings to find simlar words:\n",
    "#sims = glove_vectors.most_similar('man')\n",
    "#print('words similar to \"man\": ')\n",
    "#print([w[0] for w in sims])\n"
   ]
  },
  {
   "cell_type": "markdown",
   "metadata": {
    "id": "f17c08ab"
   },
   "source": [
    "## spaCy"
   ]
  },
  {
   "cell_type": "code",
   "execution_count": 1,
   "metadata": {
    "colab": {
     "base_uri": "https://localhost:8080/"
    },
    "executionInfo": {
     "elapsed": 18179,
     "status": "ok",
     "timestamp": 1623681724214,
     "user": {
      "displayName": "o kemper",
      "photoUrl": "",
      "userId": "07135009294597268629"
     },
     "user_tz": -120
    },
    "id": "15a4256d",
    "outputId": "a082cddf-a563-477e-ac73-6bc40cbe7d78",
    "scrolled": true
   },
   "outputs": [
    {
     "name": "stdout",
     "output_type": "stream",
     "text": [
      "['hippo', 'HIPPO', 'Hippo', 'Zebra', 'zebra', 'ZEBRA', 'ELEPHANT', 'elephant', 'Elephant', 'Cheetah']\n"
     ]
    }
   ],
   "source": [
    "# see https://stackoverflow.com/questions/37253326/how-to-find-the-most-common-words-using-spacy\n",
    "\n",
    "# if you see an error \"Can't find model 'en_core_web_lg'\" restart the kernel\n",
    "\n",
    "import spacy\n",
    "import math\n",
    "try:\n",
    "    nlp = spacy.load('en_core_web_lg')\n",
    "except Exception as e:\n",
    "    !python -m spacy download en_core_web_lg\n",
    "    nlp = spacy.load('en_core_web_lg')\n",
    "\n",
    "    \n",
    "def spacy_most_similar(word, topn=10):\n",
    "    ms = nlp.vocab.vectors.most_similar(\n",
    "        nlp(word).vector.reshape(1,nlp(word).vector.shape[0]), n=2*topn)\n",
    "    words = [nlp.vocab.strings[w] for w in ms[0][0] ]\n",
    "    distances = ms[2]\n",
    "    w=[]\n",
    "    d=[]\n",
    "    for wrd, dist in zip(words, distances[0]):\n",
    "        # remove hits with same word\n",
    "        if (wrd.lower() != word.lower()) and not wrd.lower().startswith(word.lower()):\n",
    "            w.append(wrd)\n",
    "            d.append(dist)\n",
    "    return w[:topn], d[:topn]\n",
    "\n",
    "def most_similar(word, topn=5):\n",
    "    word = nlp.vocab[str(word)]\n",
    "    queries = [\n",
    "      w for w in word.vocab \n",
    "      if w.is_lower == word.is_lower and w.prob >= -15 and np.count_nonzero(w.vector)\n",
    "    ]\n",
    "    by_similarity = sorted(queries, key=lambda w: word.similarity(w), reverse=True)\n",
    "    return [(w.lower_,w.similarity(word)) for w in by_similarity[:topn+1] if w.lower_ != word.lower_]\n",
    "\n",
    "\n",
    "\n",
    "print(spacy_most_similar(\"giraffe\", topn=10)[0])"
   ]
  },
  {
   "cell_type": "markdown",
   "metadata": {
    "id": "25c0b27d"
   },
   "source": [
    "this works rather well, owing to the larger corpus of words downloaded"
   ]
  },
  {
   "cell_type": "code",
   "execution_count": null,
   "metadata": {
    "id": "0d50435a"
   },
   "outputs": [],
   "source": []
  }
 ],
 "metadata": {
  "colab": {
   "name": "chapter16_mod.ipynb",
   "provenance": []
  },
  "kernelspec": {
   "display_name": "Python 3",
   "language": "python",
   "name": "python3"
  },
  "language_info": {
   "codemirror_mode": {
    "name": "ipython",
    "version": 3
   },
   "file_extension": ".py",
   "mimetype": "text/x-python",
   "name": "python",
   "nbconvert_exporter": "python",
   "pygments_lexer": "ipython3",
   "version": "3.8.5"
  }
 },
 "nbformat": 4,
 "nbformat_minor": 5
}
